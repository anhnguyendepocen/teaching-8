{
 "cells": [
  {
   "cell_type": "markdown",
   "metadata": {},
   "source": [
    "# The correlation coefficient is the regression slope of the standardized vectors"
   ]
  },
  {
   "cell_type": "code",
   "execution_count": 1,
   "metadata": {
    "collapsed": true
   },
   "outputs": [],
   "source": [
    "import numpy as np\n",
    "import matplotlib.pyplot as plt"
   ]
  },
  {
   "cell_type": "code",
   "execution_count": 2,
   "metadata": {
    "collapsed": true
   },
   "outputs": [],
   "source": [
    "%matplotlib inline"
   ]
  },
  {
   "cell_type": "code",
   "execution_count": 3,
   "metadata": {
    "collapsed": true
   },
   "outputs": [],
   "source": [
    "def standardize(arr):\n",
    "    arr = arr - arr.mean()\n",
    "    return arr / np.std(arr)"
   ]
  },
  {
   "cell_type": "code",
   "execution_count": 4,
   "metadata": {},
   "outputs": [
    {
     "data": {
      "text/plain": [
       "array([-1.5666989 , -1.21854359, -0.87038828, -0.52223297, -0.17407766,\n",
       "        0.17407766,  0.52223297,  0.87038828,  1.21854359,  1.5666989 ])"
      ]
     },
     "execution_count": 4,
     "metadata": {},
     "output_type": "execute_result"
    }
   ],
   "source": [
    "standardize(np.arange(10))"
   ]
  },
  {
   "cell_type": "code",
   "execution_count": 5,
   "metadata": {},
   "outputs": [],
   "source": [
    "vec_len = 100\n",
    "means = np.arange(0, 10)\n",
    "deviations = np.arange(1, 11)\n",
    "vecs = []\n",
    "for mean in means:\n",
    "    for deviation in deviations:\n",
    "        vec = np.random.normal(mean, deviation, size=(vec_len,))\n",
    "        vecs.append(vec)"
   ]
  },
  {
   "cell_type": "code",
   "execution_count": 6,
   "metadata": {
    "collapsed": true
   },
   "outputs": [],
   "source": [
    "def fit_lstsq_line(x, y):\n",
    "    X = np.ones((len(x), 2))\n",
    "    X[:, 0] = x\n",
    "    betas = np.linalg.pinv(X).dot(y)\n",
    "    return betas"
   ]
  },
  {
   "cell_type": "code",
   "execution_count": 7,
   "metadata": {},
   "outputs": [
    {
     "name": "stdout",
     "output_type": "stream",
     "text": [
      "(-2.0382527105744805, 2.912103236301943)\n",
      "(-13.238230361848579, 23.449632605483853)\n"
     ]
    }
   ],
   "source": [
    "def slopes_for_vecs(vecs):\n",
    "    slopes = []\n",
    "    intercepts = []\n",
    "    for x in vecs:\n",
    "        for y in vecs:\n",
    "            if x is y:\n",
    "                continue\n",
    "            slope, intercept = fit_lstsq_line(x, y)\n",
    "            slopes.append(slope)\n",
    "            intercepts.append(intercept)\n",
    "    return slopes, intercepts\n",
    "\n",
    "slopes, intercepts = slopes_for_vecs(vecs)\n",
    "print(min(slopes), max(slopes))\n",
    "print(min(intercepts), max(intercepts))"
   ]
  },
  {
   "cell_type": "code",
   "execution_count": 8,
   "metadata": {},
   "outputs": [
    {
     "data": {
      "image/png": "[encoded data removed]",
      "text/plain": [
       "<matplotlib.figure.Figure at 0x7f4121827bd0>"
      ]
     },
     "metadata": {},
     "output_type": "display_data"
    }
   ],
   "source": [
    "plt.hist(slopes, bins=50);"
   ]
  },
  {
   "cell_type": "markdown",
   "metadata": {},
   "source": [
    "Now standarize the vectors (subtract mean, divide by standard deviation):"
   ]
  },
  {
   "cell_type": "code",
   "execution_count": 9,
   "metadata": {
    "collapsed": true
   },
   "outputs": [],
   "source": [
    "z_vecs = [standardize(vec) for vec in vecs]"
   ]
  },
  {
   "cell_type": "markdown",
   "metadata": {},
   "source": [
    "Recalculate the least-squares line for the standardized vectors.  Now the slopes are within -1 and 1, and the intercepts are all very very close to 0 (in fact, within floating point error, they are 0)."
   ]
  },
  {
   "cell_type": "code",
   "execution_count": 10,
   "metadata": {},
   "outputs": [
    {
     "name": "stdout",
     "output_type": "stream",
     "text": [
      "(-0.35142199179036204, 0.37855638466493929)\n",
      "(-1.0772632785815972e-15, 1.0026701691145945e-15)\n"
     ]
    }
   ],
   "source": [
    "z_slopes, z_intercepts = slopes_for_vecs(z_vecs)\n",
    "print(min(z_slopes), max(z_slopes))\n",
    "print(min(z_intercepts), max(z_intercepts))"
   ]
  },
  {
   "cell_type": "markdown",
   "metadata": {},
   "source": [
    "The slopes of the standardized lines are the same as the correlation coefficients of the two vectors (where the vectors are *not* standarized):"
   ]
  },
  {
   "cell_type": "code",
   "execution_count": 11,
   "metadata": {},
   "outputs": [],
   "source": [
    "rs = []\n",
    "for x in vecs:\n",
    "    for y in vecs:\n",
    "        if x is y:\n",
    "            continue\n",
    "        rs.append(np.corrcoef(x, y)[0, 1])"
   ]
  },
  {
   "cell_type": "code",
   "execution_count": 12,
   "metadata": {},
   "outputs": [
    {
     "data": {
      "text/plain": [
       "<matplotlib.collections.PathCollection at 0x7f4121409190>"
      ]
     },
     "execution_count": 12,
     "metadata": {},
     "output_type": "execute_result"
    },
    {
     "data": {
      "image/png": "[encoded data removed]",
      "text/plain": [
       "<matplotlib.figure.Figure at 0x7f412c1ebc50>"
      ]
     },
     "metadata": {},
     "output_type": "display_data"
    }
   ],
   "source": [
    "plt.scatter(rs, z_slopes)"
   ]
  },
  {
   "cell_type": "code",
   "execution_count": 13,
   "metadata": {},
   "outputs": [
    {
     "data": {
      "text/plain": [
       "True"
      ]
     },
     "execution_count": 13,
     "metadata": {},
     "output_type": "execute_result"
    }
   ],
   "source": [
    "np.allclose(rs, z_slopes)"
   ]
  }
 ],
 "metadata": {
  "kernelspec": {
   "display_name": "Python 3",
   "language": "python",
   "name": "python3"
  },
  "language_info": {
   "codemirror_mode": {
    "name": "ipython",
    "version": 2
   },
   "file_extension": ".py",
   "mimetype": "text/x-python",
   "name": "python",
   "nbconvert_exporter": "python",
   "pygments_lexer": "ipython2",
   "version": "2.7.13"
  }
 },
 "nbformat": 4,
 "nbformat_minor": 2
}
