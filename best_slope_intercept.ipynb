{
 "cells": [
  {
   "cell_type": "markdown",
   "metadata": {},
   "source": [
    "# The least-squares line"
   ]
  },
  {
   "cell_type": "markdown",
   "metadata": {},
   "source": [
    "Here we use some basic algebra and calculus, to prove the equation for the best fit line between a vector of values $[ x_1, x_2, \\dots, x_n ]$, and another vector of values $[ y_1, y_2, \\dots, y_n ]$.\n",
    "\n",
    "We define the line to have intercept $c$ and slope $b$.\n",
    "\n",
    "The $y$ values *predicted* by the line are therefore $[ c + b x_1, c + b x_2, \\dots, c + b x_n]$.\n",
    "\n",
    "The errors are the observed values of $y$ minus the predicted values:\n",
    "\n",
    "$$\n",
    "[y_1 - (c + b x_1), y_2 - (c + b x_2), \\dots, y_n - (c + b x_n)]\n",
    "$$\n",
    "\n",
    "We define the \"best fit\" line as the line that minimizes the sum of the squared errors.\n",
    "\n",
    "We can write the sum of squared errors $SSE$ using [sum notation](http://matthew-brett.github.io/teaching/some_sums.html):\n",
    "\n",
    "$$\n",
    "SSE = \\sum_{i=1}^n{(y_i - (c + b x_i))^2}\n",
    "$$\n",
    "\n",
    "We are therefore looking for the values of $c$ and $b$ that minimize $SSE$."
   ]
  },
  {
   "cell_type": "code",
   "execution_count": 1,
   "metadata": {},
   "outputs": [],
   "source": [
    "# Sympy is Python's symbolic mathematics library.\n",
    "from sympy import (symbols, summation, diff, IndexedBase, Add, Eq,\n",
    "                   simplify, expand, solve)\n",
    "# Render Sympy equations nicely in the notebook\n",
    "from sympy.interactive import printing\n",
    "printing.init_printing()"
   ]
  },
  {
   "cell_type": "code",
   "execution_count": 2,
   "metadata": {},
   "outputs": [],
   "source": [
    "# Symbols\n",
    "i, n = symbols('i, n', integer=True, positive=True)\n",
    "c, b = symbols('c, b')  # Intercept and slope\n",
    "# The vectors of x and y observations\n",
    "x = IndexedBase('x')\n",
    "y = IndexedBase('y')"
   ]
  },
  {
   "cell_type": "markdown",
   "metadata": {},
   "source": [
    "Equation for the predicted (fitted) value, for a given intercept $c$ and slope $b$:"
   ]
  },
  {
   "cell_type": "code",
   "execution_count": 3,
   "metadata": {},
   "outputs": [
    {
     "data": {
      "image/png": "[encoded data removed]",
      "text/latex": [
       "$$b {x}_{i} + c$$"
      ],
      "text/plain": [
       "b⋅x[i] + c"
      ]
     },
     "execution_count": 3,
     "metadata": {},
     "output_type": "execute_result"
    }
   ],
   "source": [
    "predicted = c + b * x[i]\n",
    "predicted"
   ]
  },
  {
   "cell_type": "markdown",
   "metadata": {},
   "source": [
    "The error is the actual value $y_i$ minus the predicted value."
   ]
  },
  {
   "cell_type": "code",
   "execution_count": 4,
   "metadata": {},
   "outputs": [
    {
     "data": {
      "image/png": "[encoded data removed]",
      "text/latex": [
       "$$- b {x}_{i} - c + {y}_{i}$$"
      ],
      "text/plain": [
       "-b⋅x[i] - c + y[i]"
      ]
     },
     "execution_count": 4,
     "metadata": {},
     "output_type": "execute_result"
    }
   ],
   "source": [
    "error = y[i] - predicted\n",
    "error"
   ]
  },
  {
   "cell_type": "markdown",
   "metadata": {},
   "source": [
    "The sum of the squared error is the sum of all the individal squared errors:"
   ]
  },
  {
   "cell_type": "code",
   "execution_count": 5,
   "metadata": {},
   "outputs": [
    {
     "data": {
      "image/png": "[encoded data removed]",
      "text/latex": [
       "$$\\sum_{i=1}^{n} \\left(- b {x}_{i} - c + {y}_{i}\\right)^{2}$$"
      ],
      "text/plain": [
       "  n                        \n",
       " ___                       \n",
       " ╲                         \n",
       "  ╲                       2\n",
       "  ╱   (-b⋅x[i] - c + y[i]) \n",
       " ╱                         \n",
       " ‾‾‾                       \n",
       "i = 1                      "
      ]
     },
     "execution_count": 5,
     "metadata": {},
     "output_type": "execute_result"
    }
   ],
   "source": [
    "SSE = summation(error ** 2, (i, 1, n))\n",
    "SSE"
   ]
  },
  {
   "cell_type": "markdown",
   "metadata": {},
   "source": [
    "We use the [algebra of sums](http://matthew-brett.github.io/teaching/some_sums.html) to expand out this sums, to several sums:"
   ]
  },
  {
   "cell_type": "code",
   "execution_count": 6,
   "metadata": {},
   "outputs": [
    {
     "data": {
      "image/png": "[encoded data removed]",
      "text/latex": [
       "$$\\sum_{i=1}^{n} c^{2} + \\sum_{i=1}^{n} b^{2} {x}_{i}^{2} + \\sum_{i=1}^{n} - 2 c {y}_{i} + \\sum_{i=1}^{n} 2 b c {x}_{i} + \\sum_{i=1}^{n} - 2 b {x}_{i} {y}_{i} + \\sum_{i=1}^{n} {y}_{i}^{2}$$"
      ],
      "text/plain": [
       "  n          n                n                 n                  n          \n",
       " ___        ___              ___               ___                ___         \n",
       " ╲          ╲                ╲                 ╲                  ╲           \n",
       "  ╲    2     ╲    2     2     ╲   -2⋅c⋅y[i]     ╲   2⋅b⋅c⋅x[i]     ╲   -2⋅b⋅x[\n",
       "  ╱   c  +   ╱   b ⋅x[i]  +   ╱             +   ╱              +   ╱          \n",
       " ╱          ╱                ╱                 ╱                  ╱           \n",
       " ‾‾‾        ‾‾‾              ‾‾‾               ‾‾‾                ‾‾‾         \n",
       "i = 1      i = 1            i = 1             i = 1              i = 1        \n",
       "\n",
       "            n        \n",
       "           ___       \n",
       "           ╲         \n",
       "i]⋅y[i]     ╲       2\n",
       "        +   ╱   y[i] \n",
       "           ╱         \n",
       "           ‾‾‾       \n",
       "          i = 1      "
      ]
     },
     "execution_count": 6,
     "metadata": {},
     "output_type": "execute_result"
    }
   ],
   "source": [
    "SSE = expand(SSE)\n",
    "SSE"
   ]
  },
  {
   "cell_type": "markdown",
   "metadata": {},
   "source": [
    "We force Sympy to apply more of the [algebra of sums](http://matthew-brett.github.io/teaching/some_sums.html) rules, like this:"
   ]
  },
  {
   "cell_type": "code",
   "execution_count": 7,
   "metadata": {},
   "outputs": [
    {
     "data": {
      "image/png": "[encoded data removed]",
      "text/latex": [
       "$$b^{2} \\sum_{i=1}^{n} {x}_{i}^{2} + 2 b c \\sum_{i=1}^{n} {x}_{i} - 2 b \\sum_{i=1}^{n} {x}_{i} {y}_{i} + c^{2} n - 2 c \\sum_{i=1}^{n} {y}_{i} + \\sum_{i=1}^{n} {y}_{i}^{2}$$"
      ],
      "text/plain": [
       "     n                   n                n                            n      \n",
       "    ___                 ___              ___                          ___     \n",
       "    ╲                   ╲                ╲                            ╲       \n",
       " 2   ╲       2           ╲   x[i]         ╲   x[i]⋅y[i]    2           ╲   y[i\n",
       "b ⋅  ╱   x[i]  + 2⋅b⋅c⋅  ╱        - 2⋅b⋅  ╱             + c ⋅n - 2⋅c⋅  ╱      \n",
       "    ╱                   ╱                ╱                            ╱       \n",
       "    ‾‾‾                 ‾‾‾              ‾‾‾                          ‾‾‾     \n",
       "   i = 1               i = 1            i = 1                        i = 1    \n",
       "\n",
       "      n        \n",
       "     ___       \n",
       "     ╲         \n",
       "]     ╲       2\n",
       "  +   ╱   y[i] \n",
       "     ╱         \n",
       "     ‾‾‾       \n",
       "    i = 1      "
      ]
     },
     "execution_count": 7,
     "metadata": {},
     "output_type": "execute_result"
    }
   ],
   "source": [
    "SSE = Add(*[simplify(term).doit() for term in SSE.args])\n",
    "SSE"
   ]
  },
  {
   "cell_type": "markdown",
   "metadata": {},
   "source": [
    "Let us imagine we have set up the values in $[x_1, x_2, \\dots, x_n]$ so they have a mean of 0.\n",
    "\n",
    "When the mean of the $x_i$ values is 0, then $\\sum_{i=1}^n{x_i}$ must also be 0."
   ]
  },
  {
   "cell_type": "code",
   "execution_count": 8,
   "metadata": {},
   "outputs": [
    {
     "data": {
      "image/png": "[encoded data removed]",
      "text/latex": [
       "$$b^{2} \\sum_{i=1}^{n} {x}_{i}^{2} - 2 b \\sum_{i=1}^{n} {x}_{i} {y}_{i} + c^{2} n - 2 c \\sum_{i=1}^{n} {y}_{i} + \\sum_{i=1}^{n} {y}_{i}^{2}$$"
      ],
      "text/plain": [
       "     n                 n                            n            n        \n",
       "    ___               ___                          ___          ___       \n",
       "    ╲                 ╲                            ╲            ╲         \n",
       " 2   ╲       2         ╲   x[i]⋅y[i]    2           ╲   y[i]     ╲       2\n",
       "b ⋅  ╱   x[i]  - 2⋅b⋅  ╱             + c ⋅n - 2⋅c⋅  ╱        +   ╱   y[i] \n",
       "    ╱                 ╱                            ╱            ╱         \n",
       "    ‾‾‾               ‾‾‾                          ‾‾‾          ‾‾‾       \n",
       "   i = 1             i = 1                        i = 1        i = 1      "
      ]
     },
     "execution_count": 8,
     "metadata": {},
     "output_type": "execute_result"
    }
   ],
   "source": [
    "sum_x = summation(x[i], (i, 1, n))\n",
    "when_x_0_mean = SSE.replace(sum_x, 0)\n",
    "when_x_0_mean"
   ]
  },
  {
   "cell_type": "markdown",
   "metadata": {},
   "source": [
    "Differentiate with respect to $c$, so we can look for the value of $c$ that minimizes this expression:"
   ]
  },
  {
   "cell_type": "code",
   "execution_count": 9,
   "metadata": {},
   "outputs": [
    {
     "data": {
      "image/png": "[encoded data removed]",
      "text/latex": [
       "$$2 c n - 2 \\sum_{i=1}^{n} {y}_{i}$$"
      ],
      "text/plain": [
       "            n       \n",
       "           ___      \n",
       "           ╲        \n",
       "            ╲   y[i]\n",
       "2⋅c⋅n - 2⋅  ╱       \n",
       "           ╱        \n",
       "           ‾‾‾      \n",
       "          i = 1     "
      ]
     },
     "execution_count": 9,
     "metadata": {},
     "output_type": "execute_result"
    }
   ],
   "source": [
    "d_wrt_c = diff(when_x_0_mean, c)\n",
    "d_wrt_c"
   ]
  },
  {
   "cell_type": "markdown",
   "metadata": {},
   "source": [
    "Set to equal 0 and solve for $c$."
   ]
  },
  {
   "cell_type": "code",
   "execution_count": 10,
   "metadata": {},
   "outputs": [
    {
     "data": {
      "image/png": "[encoded data removed]",
      "text/latex": [
       "$$\\left [ \\frac{\\sum_{i=1}^{n} {y}_{i}}{n}\\right ]$$"
      ],
      "text/plain": [
       "⎡  n       ⎤\n",
       "⎢ ___      ⎥\n",
       "⎢ ╲        ⎥\n",
       "⎢  ╲   y[i]⎥\n",
       "⎢  ╱       ⎥\n",
       "⎢ ╱        ⎥\n",
       "⎢ ‾‾‾      ⎥\n",
       "⎢i = 1     ⎥\n",
       "⎢──────────⎥\n",
       "⎣    n     ⎦"
      ]
     },
     "execution_count": 10,
     "metadata": {},
     "output_type": "execute_result"
    }
   ],
   "source": [
    "c_has_diff_0 = solve(Eq(0, d_wrt_c), c)\n",
    "c_has_diff_0"
   ]
  },
  {
   "cell_type": "markdown",
   "metadata": {},
   "source": [
    "Differentiate again to show that this second derivative is always positive, and therefore that the value above is a minimum (not a maximum):"
   ]
  },
  {
   "cell_type": "code",
   "execution_count": 11,
   "metadata": {},
   "outputs": [
    {
     "data": {
      "image/png": "[encoded data removed]",
      "text/latex": [
       "$$2 n$$"
      ],
      "text/plain": [
       "2⋅n"
      ]
     },
     "execution_count": 11,
     "metadata": {},
     "output_type": "execute_result"
    }
   ],
   "source": [
    "dd_wrt_c = diff(d_wrt_c, c)\n",
    "dd_wrt_c"
   ]
  },
  {
   "cell_type": "markdown",
   "metadata": {},
   "source": [
    "We conclude that, regardless of the slope $b$ (that does not appear in the derivative), the value of $c$ that minimizes the sum of squared error is the mean of the $y_i$ values."
   ]
  },
  {
   "cell_type": "markdown",
   "metadata": {},
   "source": [
    "Now solve for the slope:"
   ]
  },
  {
   "cell_type": "code",
   "execution_count": 12,
   "metadata": {},
   "outputs": [
    {
     "data": {
      "image/png": "[encoded data removed]",
      "text/latex": [
       "$$2 b \\sum_{i=1}^{n} {x}_{i}^{2} - 2 \\sum_{i=1}^{n} {x}_{i} {y}_{i}$$"
      ],
      "text/plain": [
       "      n               n            \n",
       "     ___             ___           \n",
       "     ╲               ╲             \n",
       "      ╲       2       ╲   x[i]⋅y[i]\n",
       "2⋅b⋅  ╱   x[i]  - 2⋅  ╱            \n",
       "     ╱               ╱             \n",
       "     ‾‾‾             ‾‾‾           \n",
       "    i = 1           i = 1          "
      ]
     },
     "execution_count": 12,
     "metadata": {},
     "output_type": "execute_result"
    }
   ],
   "source": [
    "d_wrt_b = diff(when_x_0_mean, b)\n",
    "d_wrt_b"
   ]
  },
  {
   "cell_type": "code",
   "execution_count": 13,
   "metadata": {},
   "outputs": [
    {
     "data": {
      "image/png": "[encoded data removed]",
      "text/latex": [
       "$$\\left [ \\frac{\\sum_{i=1}^{n} {x}_{i} {y}_{i}}{\\sum_{i=1}^{n} {x}_{i}^{2}}\\right ]$$"
      ],
      "text/plain": [
       "⎡  n            ⎤\n",
       "⎢ ___           ⎥\n",
       "⎢ ╲             ⎥\n",
       "⎢  ╲   x[i]⋅y[i]⎥\n",
       "⎢  ╱            ⎥\n",
       "⎢ ╱             ⎥\n",
       "⎢ ‾‾‾           ⎥\n",
       "⎢i = 1          ⎥\n",
       "⎢───────────────⎥\n",
       "⎢    n          ⎥\n",
       "⎢   ___         ⎥\n",
       "⎢   ╲           ⎥\n",
       "⎢    ╲       2  ⎥\n",
       "⎢    ╱   x[i]   ⎥\n",
       "⎢   ╱           ⎥\n",
       "⎢   ‾‾‾         ⎥\n",
       "⎣  i = 1        ⎦"
      ]
     },
     "execution_count": 13,
     "metadata": {},
     "output_type": "execute_result"
    }
   ],
   "source": [
    "b_has_diff_0 = solve(Eq(0, d_wrt_b), b)\n",
    "b_has_diff_0"
   ]
  },
  {
   "cell_type": "markdown",
   "metadata": {},
   "source": [
    "The second derivative is always positive, so the value above must be a minimum: "
   ]
  },
  {
   "cell_type": "code",
   "execution_count": 14,
   "metadata": {},
   "outputs": [
    {
     "data": {
      "image/png": "[encoded data removed]",
      "text/latex": [
       "$$2 \\sum_{i=1}^{n} {x}_{i}^{2}$$"
      ],
      "text/plain": [
       "    n        \n",
       "   ___       \n",
       "   ╲         \n",
       "    ╲       2\n",
       "2⋅  ╱   x[i] \n",
       "   ╱         \n",
       "   ‾‾‾       \n",
       "  i = 1      "
      ]
     },
     "execution_count": 14,
     "metadata": {},
     "output_type": "execute_result"
    }
   ],
   "source": [
    "dd_wrt_b = diff(d_wrt_b, b)\n",
    "dd_wrt_b"
   ]
  },
  {
   "cell_type": "markdown",
   "metadata": {},
   "source": [
    "We find that the slope minimizing the sum of squared error, is the sum of all the $x_i, y_i$ pairs multiplied, divided by the sum of the squared $x_i$ values.  This is true regardless of the intercept $c$ (that does not appear in the derivative)."
   ]
  }
 ],
 "metadata": {
  "jupytext": {
   "main_language": "python",
   "split_at_heading": true
  },
  "kernelspec": {
   "display_name": "Python 3",
   "language": "python",
   "name": "python3"
  },
  "language_info": {
   "codemirror_mode": {
    "name": "ipython",
    "version": 3
   },
   "file_extension": ".py",
   "mimetype": "text/x-python",
   "name": "python",
   "nbconvert_exporter": "python",
   "pygments_lexer": "ipython3",
   "version": "3.7.2"
  }
 },
 "nbformat": 4,
 "nbformat_minor": 2
}
