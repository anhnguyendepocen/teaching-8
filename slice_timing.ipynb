{
 "cells": [
  {
   "cell_type": "markdown",
   "metadata": {},
   "source": [
    "$\\newcommand{L}[1]{\\| #1 \\|}\\newcommand{VL}[1]{\\L{ \\vec{#1} }}\\newcommand{R}[1]{\\operatorname{Re}\\,(#1)}\\newcommand{I}[1]{\\operatorname{Im}\\, (#1)}$\n",
    "\n",
    "## Slice timing correction\n",
    "\n",
    "We load and configure libraries to start:"
   ]
  },
  {
   "cell_type": "code",
   "execution_count": null,
   "metadata": {},
   "outputs": [],
   "source": [
    "from __future__ import print_function, division\n",
    "import numpy as np\n",
    "import matplotlib.pyplot as plt"
   ]
  },
  {
   "cell_type": "code",
   "execution_count": null,
   "metadata": {},
   "outputs": [],
   "source": [
    "%matplotlib inline"
   ]
  },
  {
   "cell_type": "markdown",
   "metadata": {},
   "source": [
    "The scanner collected each volume slice by slice. That means that each\n",
    "slice corresponds to a different time.\n",
    "\n",
    "For example, here is a 4D FMRI image:"
   ]
  },
  {
   "cell_type": "code",
   "execution_count": null,
   "metadata": {},
   "outputs": [],
   "source": [
    "import nibabel as nib\n",
    "img = nib.load('an_example_4d.nii')\n",
    "data = img.get_data()"
   ]
  },
  {
   "cell_type": "markdown",
   "metadata": {},
   "source": [
    "You can get the 4D image from [an_example_4d.nii](https://matthew-brett.github.io/teaching/_downloads/f8599b034210fac438d46a11d30c6766/an_example_4d.nii).\n",
    "\n",
    "This 4D FMRI image has 16 slices on the third axis (slices in z) and 100\n",
    "volumes:"
   ]
  },
  {
   "cell_type": "code",
   "execution_count": null,
   "metadata": {},
   "outputs": [],
   "source": [
    "data.shape"
   ]
  },
  {
   "cell_type": "markdown",
   "metadata": {},
   "source": [
    "The scanner acquired each of these 16 z slices at a different time, relative\n",
    "to the start of the TR.\n",
    "\n",
    "For the moment, let’s consider the first volume only."
   ]
  },
  {
   "cell_type": "code",
   "execution_count": null,
   "metadata": {},
   "outputs": [],
   "source": [
    "vol0 = data[..., 0]"
   ]
  },
  {
   "cell_type": "markdown",
   "metadata": {},
   "source": [
    "Here is a sagittal section showing the z slice positions:\n",
    "\n",
    "Configure matplotlib"
   ]
  },
  {
   "cell_type": "code",
   "execution_count": null,
   "metadata": {},
   "outputs": [],
   "source": [
    "plt.rcParams['image.cmap'] = 'gray'  # default gray colormap\n",
    "plt.rcParams['image.interpolation'] = 'nearest'"
   ]
  },
  {
   "cell_type": "markdown",
   "metadata": {},
   "source": [
    "Show sagittal section:"
   ]
  },
  {
   "cell_type": "code",
   "execution_count": null,
   "metadata": {},
   "outputs": [],
   "source": [
    "plt.imshow(vol0[31, :, :].T, origin='bottom left')  # doctest: +SKIP\n",
    "plt.title('Sagittal section through first volume') # doctest: +SKIP\n",
    "plt.xlabel('x axis')  # doctest: +SKIP\n",
    "plt.ylabel('z axis')  # doctest: +SKIP"
   ]
  },
  {
   "cell_type": "markdown",
   "metadata": {},
   "source": [
    "The scanner acquired the slices in interleaved order, first acquiring slice\n",
    "index 0, 2, 4, … 14 (where 0 is the bottom slice) then acquiring slices 1, 3,\n",
    "5, .. 15:\n",
    "\n",
    "So the scanner collected the bottom slice, at slice index 0, at the beginning\n",
    "of the TR, but it collected the next slice in space, at slice index 1, half\n",
    "way through the TR.  Let’s say the TR == 2.0.  The time that the scanner takes\n",
    "to acquire a single slice will be:"
   ]
  },
  {
   "cell_type": "code",
   "execution_count": null,
   "metadata": {},
   "outputs": [],
   "source": [
    "TR = 2.0\n",
    "n_z_slices = 16\n",
    "time_for_single_slice = TR / n_z_slices\n",
    "time_for_single_slice"
   ]
  },
  {
   "cell_type": "markdown",
   "metadata": {},
   "source": [
    "The times of acquisition of first and second slices (slice 0 and slice 1) will\n",
    "be:"
   ]
  },
  {
   "cell_type": "code",
   "execution_count": null,
   "metadata": {},
   "outputs": [],
   "source": [
    "time_for_slice_0 = 0\n",
    "time_for_slice_1 = time_for_single_slice * 8\n",
    "time_for_slice_1"
   ]
  },
  {
   "cell_type": "markdown",
   "metadata": {},
   "source": [
    "It may be a problem that different slices correspond to different times.\n",
    "\n",
    "For example, later on, we may want to run some regression models on these\n",
    "data.  We will make a predicted hemodynamic time course and regress the time\n",
    "series (slices over the 4th axis) against this time course.  But — it would\n",
    "be convenient if all the voxels in one volume correspond to the same time.\n",
    "Otherwise we would need to sample our hemodynamic prediction at different\n",
    "times for different slices in the z axis.\n",
    "\n",
    "How can we make a new 4D time series, where all the slices in each volume\n",
    "correspond to our best guess at what these slices would have looked like, if\n",
    "we had acquired them all at the same time?\n",
    "\n",
    "This is the job of the *slice timing correction*.\n",
    "\n",
    "## Slice timing is interpolation in time\n",
    "\n",
    "Let’s first get a time series from the bottom slice.  Here’s what the bottom\n",
    "slice looks like, for the first volume:"
   ]
  },
  {
   "cell_type": "code",
   "execution_count": null,
   "metadata": {},
   "outputs": [],
   "source": [
    "plt.imshow(vol0[:, :, 0])  # doctest: +SKIP\n",
    "plt.title('Vol 0, z slice 0')  # doctest: +SKIP"
   ]
  },
  {
   "cell_type": "markdown",
   "metadata": {},
   "source": [
    "We are going to collect a time series from a sample voxel from this slice, and\n",
    "the slice above it (slice 1):\n",
    "\n",
    "Our sample voxel coordinates"
   ]
  },
  {
   "cell_type": "code",
   "execution_count": null,
   "metadata": {},
   "outputs": [],
   "source": [
    "vox_x = 14  # voxel coordinate in first dimension\n",
    "vox_y = 22  # voxel coordinate in second dimension"
   ]
  },
  {
   "cell_type": "markdown",
   "metadata": {},
   "source": [
    "The coordinates displayed on the images:\n",
    "\n",
    "We get the time courses from slice 0 and slice 1:"
   ]
  },
  {
   "cell_type": "code",
   "execution_count": null,
   "metadata": {},
   "outputs": [],
   "source": [
    "time_course_slice_0 = data[vox_x, vox_y, 0, :]\n",
    "time_course_slice_1 = data[vox_x, vox_y, 1, :]"
   ]
  },
  {
   "cell_type": "markdown",
   "metadata": {},
   "source": [
    "The times of acquisition of the voxels for slice 0 are at the beginning of\n",
    "each TR:"
   ]
  },
  {
   "cell_type": "code",
   "execution_count": null,
   "metadata": {},
   "outputs": [],
   "source": [
    "vol_nos = np.arange(data.shape[-1])\n",
    "vol_onset_times = vol_nos * TR\n",
    "times_slice_0 = vol_onset_times"
   ]
  },
  {
   "cell_type": "markdown",
   "metadata": {},
   "source": [
    "The times of acquisition of the voxels in slice 1 are half a TR later:"
   ]
  },
  {
   "cell_type": "code",
   "execution_count": null,
   "metadata": {},
   "outputs": [],
   "source": [
    "times_slice_1 = vol_onset_times + TR / 2."
   ]
  },
  {
   "cell_type": "markdown",
   "metadata": {},
   "source": [
    "We can plot the slice 0 time course against slice 0 acquisition time, along\n",
    "with the slice 1 time course against slice 1 acquisition time:"
   ]
  },
  {
   "cell_type": "code",
   "execution_count": null,
   "metadata": {},
   "outputs": [],
   "source": [
    "plt.plot(times_slice_0, time_course_slice_0, 'b:+',\n",
    "    label='slice 0 time course')\n",
    "plt.plot(times_slice_1, time_course_slice_1, 'r:+',\n",
    "    label='slice 1 time course')\n",
    "plt.legend()\n",
    "plt.title('Time courses for slice 0, slice 1')\n",
    "plt.xlabel('time (seconds)')  # doctest: +SKIP"
   ]
  },
  {
   "cell_type": "markdown",
   "metadata": {},
   "source": [
    "We can’t see the time offset very well here, so let’s plot only the first 10\n",
    "values (values for the first 10 volumes):"
   ]
  },
  {
   "cell_type": "code",
   "execution_count": null,
   "metadata": {},
   "outputs": [],
   "source": [
    "plt.plot(times_slice_0[:10], time_course_slice_0[:10], 'b:+',\n",
    "    label='slice 0 time course')\n",
    "plt.plot(times_slice_1[:10], time_course_slice_1[:10], 'r:+',\n",
    "    label='slice 1 time course')\n",
    "plt.legend()\n",
    "plt.title('First 10 values for slice 0, slice 1')\n",
    "plt.xlabel('time (seconds)')  # doctest: +SKIP"
   ]
  },
  {
   "cell_type": "markdown",
   "metadata": {},
   "source": [
    "We want to work out a best guess for what the values in slice 1 would be, if\n",
    "we collected them at the beginning of the TR — at the same times as the\n",
    "values for slice 0.\n",
    "\n",
    "One easy way to do this, might be to do the following for each of our desired\n",
    "samples at times $t \\in 0, 2, 4, ... 198$:\n",
    "\n",
    "* draw a vertical line at $x = t$;\n",
    "\n",
    "* at the point where the line crosses the slice 1 time course, draw a\n",
    "  horizontal line across to the y axis;\n",
    "\n",
    "* take this new y value as our *interpolation* of the slice 1 course, at time\n",
    "  $t$.\n",
    "\n",
    "Here are the vertical lines at the times of slice 0:"
   ]
  },
  {
   "cell_type": "code",
   "execution_count": null,
   "metadata": {},
   "outputs": [],
   "source": [
    "plt.plot(times_slice_0[:10], time_course_slice_0[:10], 'b:+')\n",
    "plt.plot(times_slice_1[:10], time_course_slice_1[:10], 'r:+')\n",
    "plt.title('First 10 values for slice 0, slice 1')\n",
    "plt.xlabel('time (seconds)')  # doctest: +SKIP\n",
    "min_y, max_y = plt.ylim()\n",
    "for i in range(1, 10):\n",
    "    t = times_slice_0[i]\n",
    "    plt.plot([t, t], [min_y, max_y], 'k:')"
   ]
  },
  {
   "cell_type": "markdown",
   "metadata": {},
   "source": [
    "Now we need to work out where these lines cross the slice 1 time course.\n",
    "\n",
    "This is where we can use [Linear interpolation](https://matthew-brett.github.io/teaching/linear_interpolation.html).  This is *interpolation*\n",
    "because we are estimating a value from the slice 1 time course, that is\n",
    "between two points that we have values for (inter == between).  It is *linear*\n",
    "interpolation because we are getting our estimate by assuming a straight line\n",
    "between to the two known points in order to estimate our new value.\n",
    "\n",
    "In the general case of linear interpolation (see [Linear interpolation](https://matthew-brett.github.io/teaching/linear_interpolation.html)),\n",
    "we have two points, $x_1, y_1$ and $x_2, y_2$.  In our case we have time on\n",
    "the x axis and voxel values on the y axis.\n",
    "\n",
    "The formula for the linear interpolation $y$ value between two points $x_1,\n",
    "y_1$ and $x_2, y_2$ is:\n",
    "\n",
    "$$\n",
    "y = y_1 + (x-x_1)\\frac{y_2-y_1}{x_2-x_1}\n",
    "$$\n",
    "\n",
    "Now we know the formula for the interpolation, we can apply this to find the\n",
    "interpolated values from the slice 1 time course:"
   ]
  },
  {
   "cell_type": "code",
   "execution_count": null,
   "metadata": {},
   "outputs": [],
   "source": [
    "plt.plot(times_slice_0[:10], time_course_slice_0[:10], 'b:+')\n",
    "plt.plot(times_slice_1[:10], time_course_slice_1[:10], 'r:+')\n",
    "plt.title('First 10 values for slice 0, slice 1')\n",
    "plt.xlabel('time (seconds)')\n",
    "min_y, max_y = plt.ylim()\n",
    "for i in range(1, 10):\n",
    "    t = times_slice_0[i]\n",
    "    plt.plot([t, t], [min_y, max_y], 'k:')\n",
    "    x = t\n",
    "    x0 = times_slice_1[i-1]\n",
    "    x1 = times_slice_1[i]\n",
    "    y0 = time_course_slice_1[i-1]\n",
    "    y1 = time_course_slice_1[i]\n",
    "    # Apply the linear interpolation formula\n",
    "    y = y0 + (x - x0) * (y1 - y0) / (x1 - x0)\n",
    "    plt.plot(x, y, 'kx')"
   ]
  },
  {
   "cell_type": "markdown",
   "metadata": {},
   "source": [
    "It is inconvenient to have to do this calculation for every point. We also\n",
    "need a good way of deciding what to do about values at the beginning and the\n",
    "end.\n",
    "\n",
    "Luckily `scipy` has a sub-package called `scipy.interpolate` that takes\n",
    "care of this for us.\n",
    "\n",
    "We use it by first creating an interpolation object, that will do the\n",
    "interpolation:"
   ]
  },
  {
   "cell_type": "code",
   "execution_count": null,
   "metadata": {},
   "outputs": [],
   "source": [
    "from scipy.interpolate import InterpolatedUnivariateSpline as Interp"
   ]
  },
  {
   "cell_type": "markdown",
   "metadata": {},
   "source": [
    "This `Interp` class can do more fancy interpolation, but we will use it\n",
    "for linear interpolation (`k=1` argument below):"
   ]
  },
  {
   "cell_type": "code",
   "execution_count": null,
   "metadata": {},
   "outputs": [],
   "source": [
    "lin_interper = Interp(times_slice_1, time_course_slice_1, k=1)\n",
    "type(lin_interper)"
   ]
  },
  {
   "cell_type": "markdown",
   "metadata": {},
   "source": [
    "Our new object knows how to get the linear interpolation between the y values\n",
    "we passed in, given new x values.  Here it is in action replicating our manual\n",
    "calculation above.\n",
    "\n",
    "We use the interpolator to get the values for slice 0 times:"
   ]
  },
  {
   "cell_type": "code",
   "execution_count": null,
   "metadata": {},
   "outputs": [],
   "source": [
    "interped_vals = lin_interper(times_slice_0)"
   ]
  },
  {
   "cell_type": "code",
   "execution_count": null,
   "metadata": {},
   "outputs": [],
   "source": [
    "plt.plot(times_slice_0[:10], time_course_slice_0[:10], 'b:+')\n",
    "plt.plot(times_slice_1[:10], time_course_slice_1[:10], 'r:+')\n",
    "plt.plot(times_slice_0[:10], interped_vals[:10], 'kx')\n",
    "plt.title('Using the scipy interpolation object')"
   ]
  },
  {
   "cell_type": "markdown",
   "metadata": {},
   "source": [
    "So now we can just replace the original values from the red line (values for\n",
    "slice 1) with our best guess values if the slice had been taken at the same\n",
    "times as slice 0 (black `x` on the plot).  This gives us a whole new time\n",
    "series, that has been *interpolated* from the original:\n",
    "\n",
    "We plot the interpolated time course against the slice 0 times:"
   ]
  },
  {
   "cell_type": "code",
   "execution_count": null,
   "metadata": {},
   "outputs": [],
   "source": [
    "plt.plot(times_slice_0, interped_vals, 'r:+',\n",
    "    label='interpolated slice 1 time course')\n",
    "plt.plot(times_slice_0, time_course_slice_0, 'b:+',\n",
    "    label='slice 0 time course')\n",
    "plt.legend()\n",
    "plt.title('Slice 1 time course interpolated to slice 0 times')\n",
    "plt.xlabel('time (seconds)')  # doctest: +SKIP"
   ]
  },
  {
   "cell_type": "markdown",
   "metadata": {},
   "source": [
    "# Slice time correction\n",
    "\n",
    "We can do this for each time course in each slice, and make a new 4D image,\n",
    "that has a copy of the values in slice 0, but the interpolated values for all\n",
    "the other slices.  This new 4D image has been *slice time corrected*.\n",
    "\n",
    "<!-- A file containing links and substitutions -->\n",
    "<!-- vim: ft=rst -->\n",
    "<!-- Version control -->\n",
    "<!-- Editors -->\n",
    "<!-- Python and common libraries -->\n",
    "<!-- Virtualenv and helpers -->\n",
    "<!-- Pypi and packaging -->\n",
    "<!-- Mac development -->\n",
    "<!-- Windows development -->\n",
    "<!-- Nipy and friends -->\n",
    "<!-- Mathematics -->\n",
    "<!-- Licenses -->\n",
    "<!-- Neuroimaging stuff -->\n",
    "<!-- People -->\n",
    "<!-- Substitutions -->"
   ]
  }
 ],
 "metadata": {},
 "nbformat": 4,
 "nbformat_minor": 2
}