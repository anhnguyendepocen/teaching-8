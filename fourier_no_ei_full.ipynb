{
 "cells": [
  {
   "cell_type": "markdown",
   "metadata": {},
   "source": [
    "$\\newcommand{L}[1]{\\| #1 \\|}\\newcommand{VL}[1]{\\L{ \\vec{#1} }}\\newcommand{R}[1]{\\operatorname{Re}\\,(#1)}\\newcommand{I}[1]{\\operatorname{Im}\\, (#1)}$\n",
    "\n",
    "## Fourier without the ei\n",
    "\n",
    "### Introduction\n",
    "\n",
    "The standard equations for discrete Fourier transforms (DFTs) involve\n",
    "exponentials to the power of $i$ - the imaginary unit. I\n",
    "personally find these difficult to think about, and it turns out, the\n",
    "DFT is fairly easy to recast in terms of $\\sin$ and $\\cos$.\n",
    "This page goes through this process, and tries to show how thinking in\n",
    "this way can explain some features of the DFT.\n",
    "\n",
    "#### How hard is the mathematics?\n",
    "\n",
    "You will not need heavy mathematics to follow this page. If you don't remember\n",
    "the following concepts you might want to brush up on them. There are also links\n",
    "to proofs and explanations for these ideas in the page as we go along:\n",
    "\n",
    "* basic trigonometry (SOH CAH TOA, Pythagoras' theorem);\n",
    "\n",
    "* the angle sum rule;\n",
    "\n",
    "* basic algebra with sums;\n",
    "\n",
    "* Vectors and dot products;\n",
    "\n",
    "You will not need to go deep into complex numbers, but see\n",
    "Refresher on complex numbers.\n",
    "\n",
    "#### Loading and configuring code libraries\n",
    "\n",
    "Load and configure the Python libraries we will use:"
   ]
  },
  {
   "cell_type": "code",
   "execution_count": 1,
   "metadata": {},
   "outputs": [],
   "source": [
    "# Compatibility with Python 3\n",
    "from __future__ import print_function, division"
   ]
  },
  {
   "cell_type": "code",
   "execution_count": 2,
   "metadata": {},
   "outputs": [],
   "source": [
    "import numpy as np  # the Python array package\n",
    "import matplotlib.pyplot as plt  # the Python plotting package"
   ]
  },
  {
   "cell_type": "code",
   "execution_count": 3,
   "metadata": {},
   "outputs": [],
   "source": [
    "# Tell numpy to print numbers to 4 decimal places only\n",
    "np.set_printoptions(precision=4, suppress=True)"
   ]
  },
  {
   "cell_type": "markdown",
   "metadata": {},
   "source": [
    "Some actual numbers to start\n",
    "\n",
    "Let us start with a DFT of some data."
   ]
  },
  {
   "cell_type": "code",
   "execution_count": 4,
   "metadata": {},
   "outputs": [
    {
     "data": {
      "text/plain": [
       "[<matplotlib.lines.Line2D at 0x110cd8d30>]"
      ]
     },
     "execution_count": 4,
     "metadata": {},
     "output_type": "execute_result"
    }
   ],
   "source": [
    "# An example input vector\n",
    "x = np.array(\n",
    "    [ 0.4967, -0.1383,  0.6477,  1.523 , -0.2342, -0.2341,  1.5792,\n",
    "      0.7674, -0.4695,  0.5426, -0.4634, -0.4657,  0.242 , -1.9133,\n",
    "     -1.7249, -0.5623, -1.0128,  0.3142, -0.908 , -1.4123,  1.4656,\n",
    "     -0.2258,  0.0675, -1.4247, -0.5444,  0.1109, -1.151 ,  0.3757,\n",
    "     -0.6006, -0.2917, -0.6017,  1.8523])\n",
    "N = len(x)\n",
    "N\n",
    "plt.plot(x)"
   ]
  },
  {
   "cell_type": "code",
   "execution_count": 5,
   "metadata": {},
   "outputs": [
    {
     "data": {
      "text/plain": [
       "array([-4.3939+0.j    ,  9.0217-3.7036j, -0.5874-6.2268j,  2.5184+3.7749j,\n",
       "        0.5008-0.8433j,  1.2904-0.4024j,  4.3391+0.8079j, -6.2614+2.1596j,\n",
       "        1.8974+2.4889j,  0.1042+7.6169j,  0.3606+5.162j ,  4.7965+0.0755j,\n",
       "       -5.3064-3.2329j,  4.6237+1.5287j, -2.1211+4.4873j, -4.0175-0.3712j,\n",
       "       -2.0297+0.j    , -4.0175+0.3712j, -2.1211-4.4873j,  4.6237-1.5287j,\n",
       "       -5.3064+3.2329j,  4.7965-0.0755j,  0.3606-5.162j ,  0.1042-7.6169j,\n",
       "        1.8974-2.4889j, -6.2614-2.1596j,  4.3391-0.8079j,  1.2904+0.4024j,\n",
       "        0.5008+0.8433j,  2.5184-3.7749j, -0.5874+6.2268j,  9.0217+3.7036j])"
      ]
     },
     "execution_count": 5,
     "metadata": {},
     "output_type": "execute_result"
    }
   ],
   "source": [
    "# Now the DFT\n",
    "X = np.fft.fft(x)\n",
    "X"
   ]
  },
  {
   "cell_type": "markdown",
   "metadata": {},
   "source": [
    "Notice that `X` - the output of the forward DFT - is a vector of complex\n",
    "numbers.\n",
    "\n",
    "Each value in `X` gives the scaling for a sinusoid for a particular\n",
    "frequency.\n",
    "\n",
    "If the input to the DFT is real, as here, then:\n",
    "\n",
    "* The real part of `X` has the scaling for a cosine at the particular\n",
    "  frequency;\n",
    "\n",
    "* The imaginary part of `X` has the scaling for a sine at that frequency.\n",
    "\n",
    "There are some patterns to these numbers.  Notice that the numbers at index 0\n",
    "and N/2 (=16) have 0 for their imaginary part, and that `X[17:]` is a mirror\n",
    "image of `X[1:16]`, with the imaginary parts having the opposite sign."
   ]
  },
  {
   "cell_type": "code",
   "execution_count": 6,
   "metadata": {},
   "outputs": [
    {
     "data": {
      "text/plain": [
       "array([ 9.0217+3.7036j, -0.5874+6.2268j,  2.5184-3.7749j,  0.5008+0.8433j,\n",
       "        1.2904+0.4024j,  4.3391-0.8079j, -6.2614-2.1596j,  1.8974-2.4889j,\n",
       "        0.1042-7.6169j,  0.3606-5.162j ,  4.7965-0.0755j, -5.3064+3.2329j,\n",
       "        4.6237-1.5287j, -2.1211-4.4873j, -4.0175+0.3712j])"
      ]
     },
     "execution_count": 6,
     "metadata": {},
     "output_type": "execute_result"
    }
   ],
   "source": [
    "X[1:16]\n",
    "X[17:][::-1]"
   ]
  },
  {
   "cell_type": "markdown",
   "metadata": {},
   "source": [
    "These features constitute *conjugate symmetry* and are always true of a DFT on\n",
    "real numbers.  We will soon see why.\n",
    "\n",
    "When we do the inverse DFT on `X` we return the original values of our\n",
    "input `x`, but as complex numbers with imaginary part 0:"
   ]
  },
  {
   "cell_type": "code",
   "execution_count": 7,
   "metadata": {},
   "outputs": [
    {
     "data": {
      "text/plain": [
       "array([ 0.4967-0.j, -0.1383-0.j,  0.6477-0.j,  1.5230-0.j, -0.2342-0.j,\n",
       "       -0.2341+0.j,  1.5792+0.j,  0.7674+0.j, -0.4695-0.j,  0.5426-0.j,\n",
       "       -0.4634-0.j, -0.4657+0.j,  0.2420-0.j, -1.9133-0.j, -1.7249-0.j,\n",
       "       -0.5623+0.j, -1.0128-0.j,  0.3142+0.j, -0.9080+0.j, -1.4123+0.j,\n",
       "        1.4656+0.j, -0.2258+0.j,  0.0675+0.j, -1.4247-0.j, -0.5444+0.j,\n",
       "        0.1109+0.j, -1.1510+0.j,  0.3757-0.j, -0.6006-0.j, -0.2917-0.j,\n",
       "       -0.6017-0.j,  1.8523-0.j])"
      ]
     },
     "execution_count": 7,
     "metadata": {},
     "output_type": "execute_result"
    }
   ],
   "source": [
    "# Apply the inverse DFT to the output of the forward DFT\n",
    "x_back = np.fft.ifft(X)\n",
    "x_back"
   ]
  },
  {
   "cell_type": "markdown",
   "metadata": {},
   "source": [
    "# Traditional notation for the discrete Fourier transform\n",
    "\n",
    "Let us say we have a vector of $N$ values in time, or space\n",
    "$\\vec{x} = [x_0, x_1 ... x_{N-1}]$. We generally index\n",
    "$\\vec{x}$ with subscript $n$, so the sample at index\n",
    "$n$ is $x_n$.\n",
    "\n",
    "The DFT converts $\\vec{x}$ from a vector in time, or space, to a\n",
    "vector $\\vec{X}$ representing temporal or spatial frequency\n",
    "components.\n",
    "\n",
    "We will call our original $\\vec{x}$ the *signal*, meaning, the\n",
    "signal not transformed to frequency.\n",
    "\n",
    "The DFT converts $\\vec{x}$ to $\\vec{X}$ where\n",
    "$\\vec{X} = [X_0, X_1, ... X_{N-1}]$. We generally index\n",
    "$\\vec{X}$ with subscript $k$, so the sample at index\n",
    "$k$ is $X_k$.\n",
    "\n",
    "Here is the equation for the discrete Fourier transform:\n",
    "\n",
    "$$\n",
    "X_k = \\sum_{n=0}^{N-1} x_n \\; e^{-i 2 \\pi \\frac{k}{N} n}\n",
    "$$\n",
    "\n",
    "This is the transform from signal to frequency. We will call this the\n",
    "*forward* Fourier transform.\n",
    "\n",
    "Here is the equation for the inverse Fourier transform:\n",
    "\n",
    "$$\n",
    "x_n = \\frac{1}{N} \\sum_{k=0}^{N-1} X_k \\; e^{i 2 \\pi \\frac{k}{N} n}\n",
    "$$\n",
    "\n",
    "The inverse Fourier transform converts from frequency back to signal.\n",
    "\n",
    "## DFT and FFT\n",
    "\n",
    "The fast Fourier transform (FFT) refers to a particular set of - er - fast\n",
    "algorithms for calculating the DFT. It is common, but confusing, to use \"FFT\"\n",
    "to mean DFT.\n",
    "\n",
    "# Rewriting the DFT without the $e^i$\n",
    "\n",
    "## Why rewrite without $e^i$?\n",
    "\n",
    "The forward and inverse equations are very similar; both share a term\n",
    "$e^{iz}$, where $z = -2 \\pi \\frac{k}{N} n$ for the forward\n",
    "transform; $z = 2 \\pi \\frac{k}{N} n$ for the inverse transform.\n",
    "\n",
    "Some people are used to looking at the form $e^{iz}$ and thinking\n",
    "\"aha, that's a rotation around a circle\". Apparently this is an\n",
    "intuition that builds up over time working with these sorts of\n",
    "equations.\n",
    "\n",
    "Unfortunately, some of us find it hard to think in complex exponentials,\n",
    "or in terms of complex numbers.\n",
    "\n",
    "So, in this tutorial, we will express the Fourier transform in terms of\n",
    "$\\sin$ and $\\cos$. We will be using complex numbers, but\n",
    "almost entirely as a pair of numbers to represent two components of the\n",
    "same thing, rather than a single number with a real and imaginary part.\n",
    "\n",
    "Having said that, we will need some very basic properties of complex and\n",
    "imaginary numbers - see Refresher on complex numbers.\n",
    "\n",
    "## How to rewrite without $e^i$\n",
    "\n",
    "Our first tool in this enterprise is Euler's formula:\n",
    "\n",
    "$$\n",
    "e^{i\\theta} = \\cos \\theta + i \\sin \\theta\n",
    "$$\n",
    "\n",
    "This is the basis for thinking of $e^{i \\theta}$ as being rotation\n",
    "around a circle, of which you will hear no more in this page. In our case, it\n",
    "allows us to rewrite the forward and inverse Fourier transforms:\n",
    "\n",
    "First let's define a new value $D$, that depends on $N$ - the\n",
    "number of observations in our vector $\\vec{x}$.\n",
    "\n",
    "$$\n",
    "D \\triangleq \\frac{2 \\pi}{N}\n",
    "$$\n",
    "\n",
    "With that value:\n",
    "\n",
    "$$\n",
    "X_k = \\sum_{n=0}^{N-1} x_n \\cos(-k n D) +\n",
    "i \\sum_{n=0}^{N-1} x_n \\sin(-k n D)\n",
    "$$\n",
    "\n",
    "We can simplify this further, because, for any angle $\\alpha$:\n",
    "\n",
    "$$\n",
    "\\cos(-\\theta) = cos(\\theta) \\\\\n",
    "\\sin(-\\theta) = -sin(\\theta)\n",
    "$$\n",
    "\n",
    "$$\n",
    "X_k = \\sum_{n=0}^{N-1} x_n \\cos(k n D) -\n",
    "i \\sum_{n=0}^{N-1} x_n \\sin(k n D)\n",
    "$$\n",
    "\n",
    "Following the same logic for the inverse transform:\n",
    "\n",
    "$$\n",
    "x_n = \\frac{1}{N} \\sum_{k=0}^{N-1} X_k \\cos(n k D)\n",
    "+ i \\frac{1}{N} \\sum_{k=0}^{N-1} X_k \\sin(n k D)\n",
    "$$\n",
    "\n",
    "## Rewriting the DFT with vectors\n",
    "\n",
    "We can write the elements inside the DFT summations as values from vectors:\n",
    "\n",
    "$$\n",
    "X_k = \\sum_{n=0}^{N-1} x_n \\cos(r^k_n)\n",
    "- i \\sum_{n=0}^{N-1} x_n \\sin(r^k_n)\n",
    "$$\n",
    "\n",
    "where:\n",
    "\n",
    "$$\n",
    "\\vec{r^k} \\triangleq \\left[ k 0 D, k 1 D, \\ldots, k (N - 1) D \\right]\n",
    "$$\n",
    "\n",
    "Call $\\vec{r^k}$ the *angle vector* for $k$.  This vector depend only on $k$\n",
    "and $N$.\n",
    "\n",
    "Substituting the value of $D$ (equation (3)):\n",
    "\n",
    "$$\n",
    "\\vec{r^k} = [ k 2 \\pi \\frac{0}{N}, k 2 \\pi \\frac{1}{N}, \\ldots,\n",
    "k 2 \\pi \\frac{N-1}{N}]\n",
    "$$\n",
    "\n",
    "Now define:\n",
    "\n",
    "$$\n",
    "\\vec{c^k} \\triangleq \\left[ \\cos(r^k_0), \\cos(r^k_1), \\ldots,\n",
    "\\cos(r^k_{N-1}) \\right] \\\\\n",
    "\\vec{s^k} \\triangleq \\left[ \\sin(r^k_0), \\sin(r^k_1), \\ldots,\n",
    "\\sin(r^k_{N-1}) \\right]\n",
    "$$\n",
    "\n",
    "We have:\n",
    "\n",
    "$$\n",
    "X_k = \\sum_{n=0}^{N-1} x_n c^k_n\n",
    "- i \\sum_{n=0}^{N-1} x_n s^k_n\n",
    "$$\n",
    "\n",
    "Given the definition of the Vector dot product, we can write the\n",
    "forward DFT as:\n",
    "\n",
    "$$\n",
    "X_k = \\vec{x} \\cdot \\vec{c^k} - i \\vec{x} \\cdot \\vec{s^k}\n",
    "$$\n",
    "\n",
    "## Frequency as cycles across the sample vector\n",
    "\n",
    "The key to the frequencies in the DFT is in the $n k D = k 2 \\pi \\frac{n}{N}$\n",
    "values that we have put into the angle vector $\\vec{r^k}$.\n",
    "\n",
    "The $k$ in $\\vec{r^k}$ gives the number of cycles across all $N$ values of\n",
    "$\\vec{x}$.\n",
    "\n",
    "For example, consider the case of $k = 1$:\n",
    "\n",
    "$$\n",
    "\\vec{r^1} = \\left[ 2 \\pi \\frac{0}{N}, 2 \\pi \\frac{1}{N},\n",
    "\\ldots 2 \\pi \\frac{N-1}{N} \\right]\n",
    "$$\n",
    "\n",
    "Here are the values in Python:"
   ]
  },
  {
   "cell_type": "code",
   "execution_count": 8,
   "metadata": {},
   "outputs": [
    {
     "data": {
      "text/plain": [
       "array([ 0.    ,  0.1963,  0.3927,  0.589 ,  0.7854,  0.9817,  1.1781,\n",
       "        1.3744,  1.5708,  1.7671,  1.9635,  2.1598,  2.3562,  2.5525,\n",
       "        2.7489,  2.9452,  3.1416,  3.3379,  3.5343,  3.7306,  3.927 ,\n",
       "        4.1233,  4.3197,  4.516 ,  4.7124,  4.9087,  5.1051,  5.3014,\n",
       "        5.4978,  5.6941,  5.8905,  6.0868])"
      ]
     },
     "execution_count": 8,
     "metadata": {},
     "output_type": "execute_result"
    }
   ],
   "source": [
    "vec_n = np.arange(N)\n",
    "vec_r_1 = 2 * np.pi * vec_n / float(N)\n",
    "vec_r_1"
   ]
  },
  {
   "cell_type": "markdown",
   "metadata": {},
   "source": [
    "The values $\\frac{0}{N}, \\frac{1}{N}, \\ldots \\frac{N-1}{N}$ are fractions of\n",
    "the number of samples $N$, running from 0 to close to 1.  Now multiplied by $2\n",
    "\\pi$, the values run from 0 to close to $2 \\pi$ and therefore give angles\n",
    "around a circle.\n",
    "\n",
    "The vector $\\vec{r^1}$ gives $\\vec{c^1}, \\vec{s^1}$ with a single cycle:"
   ]
  },
  {
   "cell_type": "code",
   "execution_count": 9,
   "metadata": {},
   "outputs": [
    {
     "data": {
      "text/plain": [
       "<matplotlib.legend.Legend at 0x110c14470>"
      ]
     },
     "execution_count": 9,
     "metadata": {},
     "output_type": "execute_result"
    }
   ],
   "source": [
    "vec_c_1 = np.cos(vec_r_1)\n",
    "vec_s_1 = np.sin(vec_r_1)\n",
    "plt.plot(vec_n, vec_c_1, 'o:', label=r'$\\vec{c^1}$')\n",
    "plt.plot(vec_n, vec_s_1, 'x:', label=r'$\\vec{s^1}$')\n",
    "plt.xlabel('Vector index $n$')\n",
    "plt.ylabel('$c^1_n$')\n",
    "plt.legend()"
   ]
  },
  {
   "cell_type": "markdown",
   "metadata": {},
   "source": [
    "$k = 2$ gives 2 cycles across the N values:"
   ]
  },
  {
   "cell_type": "code",
   "execution_count": 10,
   "metadata": {},
   "outputs": [
    {
     "data": {
      "text/plain": [
       "<matplotlib.legend.Legend at 0x110d06668>"
      ]
     },
     "execution_count": 10,
     "metadata": {},
     "output_type": "execute_result"
    }
   ],
   "source": [
    "vec_r_2 = vec_r_1 * 2\n",
    "vec_c_2 = np.cos(vec_r_2)\n",
    "vec_s_2 = np.sin(vec_r_2)\n",
    "plt.plot(vec_n, vec_c_2, 'o:', label=r'$\\vec{c^2}$')\n",
    "plt.plot(vec_n, vec_s_2, 'x:', label=r'$\\vec{s^2}$')\n",
    "plt.xlabel('Vector index $n$')\n",
    "plt.ylabel('$c^2_n$')\n",
    "plt.legend()"
   ]
  },
  {
   "cell_type": "markdown",
   "metadata": {},
   "source": [
    "Calculating the DFT with vectors\n",
    "\n",
    "# First DFT output value is the vector sum\n",
    "\n",
    "Consider $\\vec{r^0}, \\vec{c^0}, \\vec{s^0}$:\n",
    "\n",
    "$$\n",
    "\\vec{r^0} = \\left[\n",
    "0 2 \\pi \\frac{0}{N}, 0 2 \\pi \\frac{1}{N}, \\ldots\n",
    "\\right] \\\\\n",
    "= \\left[ 0, 0, \\ldots \\right] = \\vec{0} \\\\\n",
    "\\vec{c^0} = \\left[ 1, 1, \\ldots \\right] = \\vec{1} \\\\\n",
    "\\vec{s^0} = \\left[ 0, 0, \\ldots \\right] = \\vec{0}\n",
    "$$\n",
    "\n",
    "Therefore:\n",
    "\n",
    "$$\n",
    "X_0 = \\vec{x} \\cdot \\vec{1} - i \\vec{x} \\cdot \\vec{0} \\\\\n",
    "= \\Sigma x_n\n",
    "$$\n",
    "\n",
    "The first value in the DFT output vector is the sum of the values in\n",
    "$\\vec{x}$. If $\\vec{x}$ has real and not complex values, as here, then $X_0$\n",
    "has zero imaginary part:"
   ]
  },
  {
   "cell_type": "code",
   "execution_count": 11,
   "metadata": {},
   "outputs": [
    {
     "name": "stdout",
     "output_type": "stream",
     "text": [
      "-4.3939\n",
      "(-4.3939+0j)\n"
     ]
    }
   ],
   "source": [
    "print(np.sum(x))\n",
    "print(X[0])"
   ]
  },
  {
   "cell_type": "markdown",
   "metadata": {},
   "source": [
    "Now let's imagine that our input vector is a constant, say a vector of ones.\n",
    "What is the DFT?"
   ]
  },
  {
   "cell_type": "code",
   "execution_count": 12,
   "metadata": {},
   "outputs": [
    {
     "data": {
      "text/plain": [
       "array([ 32.+0.j,   0.+0.j,   0.+0.j,   0.+0.j,   0.+0.j,   0.+0.j,\n",
       "         0.+0.j,   0.+0.j,   0.+0.j,   0.+0.j,   0.+0.j,   0.+0.j,\n",
       "         0.+0.j,   0.+0.j,   0.+0.j,   0.+0.j,   0.+0.j,   0.+0.j,\n",
       "         0.+0.j,   0.+0.j,   0.+0.j,   0.+0.j,   0.+0.j,   0.+0.j,\n",
       "         0.+0.j,   0.+0.j,   0.+0.j,   0.+0.j,   0.+0.j,   0.+0.j,\n",
       "         0.+0.j,   0.+0.j])"
      ]
     },
     "execution_count": 12,
     "metadata": {},
     "output_type": "execute_result"
    }
   ],
   "source": [
    "vec_ones = np.ones(N)\n",
    "np.fft.fft(vec_ones)"
   ]
  },
  {
   "cell_type": "markdown",
   "metadata": {},
   "source": [
    "We were expecting the first value of 32, because it is the sum of 32 values of\n",
    "one.  All the other values are 0.  This is because all of $\\vec{c^1},\n",
    "\\vec{c^2}, \\ldots, \\vec{c^{N-1}}$ and all of $\\vec{s^1}, \\vec{s^2}, \\ldots,\n",
    "\\vec{s^{N-1}}$ sum to zero, and therefore the dot product of all these vectors\n",
    "with a constant vector is also zero.\n",
    "\n",
    "# Second DFT output corresponds to a sinusoid at frequency $1 / N$.\n",
    "\n",
    "We have already seen $\\vec{r^1}, \\vec{c^1}, \\vec{s^1}$.\n",
    "\n",
    "$\\vec{c^1}, \\vec{s^1}$ are the cosine, sine at frequency 1 / N where one unit\n",
    "is the distance between two consecutive samples in $\\vec{x}$.\n",
    "\n",
    "$$\n",
    "X_1 = \\vec{x} \\cdot \\vec{c^1} - i \\vec{x} \\cdot \\vec{s^1}\n",
    "$$"
   ]
  },
  {
   "cell_type": "code",
   "execution_count": 13,
   "metadata": {},
   "outputs": [
    {
     "name": "stdout",
     "output_type": "stream",
     "text": [
      "9.02170725475 3.70356074953\n",
      "(9.02170725475-3.70356074953j)\n"
     ]
    }
   ],
   "source": [
    "print(x.dot(vec_c_1), x.dot(vec_s_1))\n",
    "print(X[1])"
   ]
  },
  {
   "cell_type": "markdown",
   "metadata": {},
   "source": [
    "This confirms our calculation gives the same result as numpy's DFT, but isn't\n",
    "very revealing.\n",
    "\n",
    "Let's make another input vector $\\vec{v}$ that is a cosine at the same\n",
    "frequency as $\\vec{c^1}$.  Start with $\\vec{v} = \\vec{c^1}$.\n",
    "\n",
    "Our prediction for the DFT of $\\vec{v}$ is:\n",
    "\n",
    "$$\n",
    "V_1 = \\vec{v} \\cdot \\vec{c^1} - i \\vec{v} \\cdot \\vec{s^1} \\\\\n",
    "= \\vec{c^1} \\cdot \\vec{c^1} - i \\vec{c^1} \\cdot \\vec{s^1}\n",
    "$$\n",
    "\n",
    "In fact, as you can see in The Fourier basis, it is a property of the\n",
    "$\\vec{c^k}, \\vec{s^k}$ vectors that, for all $k, N$:\n",
    "\n",
    "$$\n",
    "\\vec{c^k} \\cdot \\vec{s^k} = 0\n",
    "$$\n",
    "\n",
    "Remember from Vector length that, for any vector $\\vec{w}$, we can\n",
    "write $\\vec{w} \\cdot \\vec{w}$ as $\\VL{w}^2$\n",
    "\n",
    "So:\n",
    "\n",
    "$$\n",
    "V_1 = \\VL{c^1}^2\n",
    "$$\n",
    "\n",
    "The Fourier basis also shows that $\\VL{c_1}^2 = N / 2$ for all N.  More\n",
    "generally $\\VL{c_p}^2 = \\VL{s_p}^2 = N / 2$ for all $p \\notin {0, N/2}$.\n",
    "\n",
    "So:\n",
    "\n",
    "$$\n",
    "V_1 = N / 2\n",
    "$$"
   ]
  },
  {
   "cell_type": "code",
   "execution_count": 14,
   "metadata": {},
   "outputs": [
    {
     "data": {
      "text/plain": [
       "array([ -0.+0.j,  16.-0.j,   0.+0.j,   0.+0.j,  -0.-0.j,   0.+0.j,\n",
       "         0.+0.j,   0.+0.j,   0.-0.j,   0.+0.j,  -0.+0.j,   0.+0.j,\n",
       "         0.+0.j,  -0.+0.j,   0.-0.j,   0.+0.j,   0.+0.j,   0.+0.j,\n",
       "         0.+0.j,  -0.+0.j,   0.-0.j,  -0.+0.j,  -0.-0.j,  -0.+0.j,\n",
       "         0.+0.j,  -0.+0.j,   0.-0.j,  -0.+0.j,  -0.+0.j,  -0.+0.j,\n",
       "         0.-0.j,  16.-0.j])"
      ]
     },
     "execution_count": 14,
     "metadata": {},
     "output_type": "execute_result"
    }
   ],
   "source": [
    "vec_v = vec_c_1\n",
    "V = np.fft.fft(vec_v)\n",
    "V"
   ]
  },
  {
   "cell_type": "markdown",
   "metadata": {},
   "source": [
    "Notice that $V_{N-1} = N/2 = V_1$.  This is the property of *conjugate\n",
    "symmetry*.   It is so because of the properties of the vectors $\\vec{c^k}$.\n",
    "As you see in The Fourier basis $\\vec{c_1} = \\vec{c_{N-1}}$, and, more\n",
    "generally $\\vec{c_p} = \\vec{c_{N-p}}$ for $p \\in 1, 2 \\ldots, N / 2$.\n",
    "\n",
    "## Adding a scaling factor to the cosine\n",
    "\n",
    "Now set $\\vec{v} = a \\vec{c^1}$ where $a$ is a constant:\n",
    "\n",
    "$$\n",
    "V_1 = \\vec{c^1} \\cdot a \\vec{c^1} - i \\vec{c^1} \\cdot a \\vec{s^1}\n",
    "$$\n",
    "\n",
    "By the properties of the dot product:\n",
    "\n",
    "$$\n",
    "V_1 = a \\vec{c^1} \\cdot \\vec{c^1} - i a \\vec{c^1} \\cdot \\vec{s^1} \\\\\n",
    "= a \\VL{c^1}^2\n",
    "$$"
   ]
  },
  {
   "cell_type": "code",
   "execution_count": 15,
   "metadata": {},
   "outputs": [
    {
     "data": {
      "text/plain": [
       "array([ -0.+0.j,  48.-0.j,   0.+0.j,   0.+0.j,  -0.-0.j,   0.+0.j,\n",
       "         0.+0.j,   0.+0.j,   0.-0.j,   0.+0.j,  -0.-0.j,   0.+0.j,\n",
       "        -0.+0.j,  -0.+0.j,   0.-0.j,   0.+0.j,   0.+0.j,   0.+0.j,\n",
       "         0.+0.j,  -0.+0.j,  -0.-0.j,  -0.+0.j,  -0.+0.j,  -0.+0.j,\n",
       "         0.+0.j,  -0.+0.j,   0.-0.j,  -0.+0.j,  -0.+0.j,  -0.+0.j,\n",
       "         0.-0.j,  48.-0.j])"
      ]
     },
     "execution_count": 15,
     "metadata": {},
     "output_type": "execute_result"
    }
   ],
   "source": [
    "a = 3\n",
    "vec_v = a * vec_c_1\n",
    "np.fft.fft(vec_v)"
   ]
  },
  {
   "cell_type": "markdown",
   "metadata": {},
   "source": [
    "# Adding a phase shift brings the sine into play\n",
    "\n",
    "What happens if we add a phase shift of $\\beta$ radians to the input cosine?\n",
    "\n",
    "$$\n",
    "\\vec{v} = \\left [\\cos(r^1_0 + \\beta), \\cos(r^1_1 + \\beta), \\ldots,\n",
    "\\cos(r^1_{N-1} + \\beta) \\right]\n",
    "$$"
   ]
  },
  {
   "cell_type": "code",
   "execution_count": 16,
   "metadata": {},
   "outputs": [
    {
     "data": {
      "text/plain": [
       "<matplotlib.legend.Legend at 0x110c9f390>"
      ]
     },
     "execution_count": 16,
     "metadata": {},
     "output_type": "execute_result"
    }
   ],
   "source": [
    "beta = 1.1\n",
    "vec_v = np.cos(vec_r_1 + beta)\n",
    "plt.plot(vec_n, vec_c_1, 'o:', label='Unshifted cos')\n",
    "plt.plot(vec_n, vec_v, 'x:', label='Shifted cos')\n",
    "plt.legend()"
   ]
  },
  {
   "cell_type": "markdown",
   "metadata": {},
   "source": [
    "We can rewrite the shifted cosine using the The angle sum rule:\n",
    "\n",
    "$$\n",
    "\\cos(\\alpha + \\beta) = \\cos \\alpha \\cos \\beta - \\sin \\alpha \\sin \\beta\n",
    "$$\n",
    "\n",
    "So:\n",
    "\n",
    "$$\n",
    "\\vec{v} = \\left [\\cos(r^1_0 + \\beta), \\cos(r^1_1 + \\beta), \\ldots,\n",
    "\\cos(r^1_{N-1} + \\beta) \\right] \\\\\n",
    "= \\left [\n",
    "\\cos(r^1_0) \\cos(\\beta) - \\sin(r^1_0) \\sin(\\beta),\n",
    "\\cos(r^1_1) \\cos(\\beta) - \\sin(r^1_1) \\sin(\\beta),\n",
    "\\ldots,\n",
    "\\cos(r^1_{N-1}) \\cos(\\beta) - \\sin(r^1_{N-1}) \\sin(\\beta)\n",
    "\\right] \\\\\n",
    "= \\cos(\\beta) \\vec{c^1} - \\sin(\\beta) \\vec{s^1}\n",
    "$$\n",
    "\n",
    "Now apply the vector dot products to get $V_1$:\n",
    "\n",
    "$$\n",
    "V_1 = (\\cos(\\beta) \\vec{c^1} - \\sin(\\beta) \\vec{s^1}) \\cdot \\vec{c^1} -\n",
    "i (\\cos(\\beta) \\vec{c^1} - \\sin(\\beta) \\vec{s^1}) \\cdot \\vec{s^1} \\\\\n",
    "= \\cos(\\beta) \\VL{c^1}^2 + i \\sin(\\beta) \\VL{s^1}^2\n",
    "$$\n",
    "\n",
    "Do we get this answer from the DFT?"
   ]
  },
  {
   "cell_type": "code",
   "execution_count": 17,
   "metadata": {},
   "outputs": [
    {
     "name": "stdout",
     "output_type": "stream",
     "text": [
      "7.25753794281 14.259317761\n"
     ]
    },
    {
     "data": {
      "text/plain": [
       "array([-0.0000 +0.j    ,  7.2575+14.2593j,  0.0000 +0.j    ,\n",
       "        0.0000 +0.j    ,  0.0000 +0.j    ,  0.0000 +0.j    ,\n",
       "       -0.0000 +0.j    ,  0.0000 -0.j    , -0.0000 -0.j    ,\n",
       "       -0.0000 +0.j    , -0.0000 -0.j    ,  0.0000 +0.j    ,\n",
       "       -0.0000 +0.j    ,  0.0000 -0.j    ,  0.0000 +0.j    ,\n",
       "        0.0000 +0.j    , -0.0000 +0.j    ,  0.0000 +0.j    ,\n",
       "        0.0000 -0.j    ,  0.0000 +0.j    , -0.0000 -0.j    ,\n",
       "        0.0000 +0.j    , -0.0000 +0.j    ,  0.0000 +0.j    ,\n",
       "       -0.0000 +0.j    , -0.0000 +0.j    , -0.0000 -0.j    ,\n",
       "       -0.0000 +0.j    ,  0.0000 -0.j    , -0.0000 +0.j    ,\n",
       "        0.0000 -0.j    ,  7.2575-14.2593j])"
      ]
     },
     "execution_count": 17,
     "metadata": {},
     "output_type": "execute_result"
    }
   ],
   "source": [
    "print(np.cos(beta) * (N / 2.), np.sin(beta) * (N / 2.))\n",
    "np.fft.fft(vec_v)"
   ]
  },
  {
   "cell_type": "markdown",
   "metadata": {},
   "source": [
    "Notice that $V_{N-1}$ has the same value as $V_{1}$, but with the imaginary\n",
    "part flipped in sign.  This is the *conjugate* in *conjugate symmetry*.  It\n",
    "comes about because of the construction of the vectors $\\vec{s^k}$.  As you\n",
    "see in The Fourier basis $\\vec{s_1} = -\\vec{s_{N-1}}$, and, more generally\n",
    "$\\vec{s_p} = -\\vec{s_{N-p}}$ for $p \\in 1, 2 \\ldots, N / 2$.\n",
    "\n",
    "# Reconstructing amplitude and phase from the DFT\n",
    "\n",
    "To complete our journey into $X_1$, let us add a scaling $a$ to the\n",
    "phase-shifted cosine:\n",
    "\n",
    "$$\n",
    "\\vec{v} = \\left [a \\cos(r^1_0 + \\beta), a \\cos(r^1_1 + \\beta), \\ldots,\n",
    "a \\cos(r^1_{N-1} + \\beta) \\right] \\\\\n",
    "= \\left [\n",
    "a (\\cos(r^1_0) \\cos(\\beta) - \\sin(r^1_0) \\sin(\\beta)),\n",
    "a (\\cos(r^1_1) \\cos(\\beta) - \\sin(r^1_1) \\sin(\\beta)),\n",
    "\\ldots,\n",
    "a (\\cos(r^1_{N-1}) \\cos(\\beta) - \\sin(r^1_{N-1}) \\sin(\\beta))\n",
    "\\right] \\\\\n",
    "= a (\\cos(\\beta) \\vec{c^1} - \\sin(\\beta) \\vec{s^1})\n",
    "$$\n",
    "\n",
    "This gives us:\n",
    "\n",
    "$$\n",
    "V_1 = a ( \\cos(\\beta) \\vec{c^1} - \\sin(\\beta) \\vec{s^1}) \\cdot \\vec{c^1} -\n",
    "i a (\\cos(\\beta) \\vec{c^1} - \\sin(\\beta) \\vec{s^1}) \\cdot \\vec{s^1} \\\\\n",
    "= a \\cos(\\beta) \\VL{c^1}^2 + i a \\sin(\\beta) \\VL{s^1}^2\n",
    "$$"
   ]
  },
  {
   "cell_type": "code",
   "execution_count": 18,
   "metadata": {},
   "outputs": [
    {
     "name": "stdout",
     "output_type": "stream",
     "text": [
      "21.7726138284 42.7779532829\n"
     ]
    },
    {
     "data": {
      "text/plain": [
       "array([ -0.0000 +0.j   ,  21.7726+42.778j,   0.0000 +0.j   ,\n",
       "         0.0000 +0.j   ,   0.0000 +0.j   ,   0.0000 +0.j   ,\n",
       "        -0.0000 +0.j   ,   0.0000 -0.j   ,  -0.0000 -0.j   ,\n",
       "        -0.0000 +0.j   ,  -0.0000 -0.j   ,   0.0000 +0.j   ,\n",
       "        -0.0000 +0.j   ,   0.0000 -0.j   ,   0.0000 +0.j   ,\n",
       "         0.0000 +0.j   ,  -0.0000 +0.j   ,   0.0000 +0.j   ,\n",
       "         0.0000 -0.j   ,   0.0000 +0.j   ,  -0.0000 -0.j   ,\n",
       "         0.0000 +0.j   ,  -0.0000 +0.j   ,   0.0000 +0.j   ,\n",
       "        -0.0000 +0.j   ,  -0.0000 +0.j   ,  -0.0000 -0.j   ,\n",
       "        -0.0000 +0.j   ,   0.0000 -0.j   ,  -0.0000 +0.j   ,\n",
       "         0.0000 -0.j   ,  21.7726-42.778j])"
      ]
     },
     "execution_count": 18,
     "metadata": {},
     "output_type": "execute_result"
    }
   ],
   "source": [
    "print(a * np.cos(beta) * (N / 2.), a * np.sin(beta) * (N / 2.))\n",
    "vec_v = a * np.cos(vec_r_1 + beta)\n",
    "np.fft.fft(vec_v)"
   ]
  },
  {
   "cell_type": "markdown",
   "metadata": {},
   "source": [
    "What if I want to reconstruct $a$ and $\\beta$ from the DFT coefficients?\n",
    "\n",
    "From (4):\n",
    "\n",
    "$$\n",
    "\\R{X_1} = a \\cos(\\beta) N / 2 \\\\\n",
    "\\I{X_1} = a \\sin(\\beta) N / 2\n",
    "$$\n",
    "\n",
    "So:\n",
    "\n",
    "$$\n",
    "\\R{X_1}^2 + \\I{X_1}^2 = a^2 N^2/4 (\\cos(\\beta)^2 + \\sin(\\beta)^2)\n",
    "$$\n",
    "\n",
    "By Pythagoras:\n",
    "\n",
    "$$\n",
    "\\R{X_1}^2 + \\I{X_1}^2 = a^2 N^2/4 \\implies \\\\\n",
    "\\sqrt{\\R{X_1}^2 + \\I{X_1}^2} = a N / 2\n",
    "$$"
   ]
  },
  {
   "cell_type": "code",
   "execution_count": 19,
   "metadata": {},
   "outputs": [
    {
     "data": {
      "text/plain": [
       "48.0"
      ]
     },
     "execution_count": 19,
     "metadata": {},
     "output_type": "execute_result"
    }
   ],
   "source": [
    "X_1 = np.fft.fft(vec_v)[1]\n",
    "np.sqrt(np.real(X_1)**2 + np.imag(X_1)**2)\n",
    "3 * N / 2."
   ]
  },
  {
   "cell_type": "markdown",
   "metadata": {},
   "source": [
    "We can get the angle $\\beta$ in a similar way:\n",
    "\n",
    "$$\n",
    "\\R{X_1} = a \\cos(\\beta) N / 2 \\implies \\\\\n",
    "\\cos(\\beta) = \\R{X_1} / (a N / 2)\n",
    "$$\n",
    "\n",
    "`np.arccos` is the inverse of `np.cos`:"
   ]
  },
  {
   "cell_type": "code",
   "execution_count": 20,
   "metadata": {},
   "outputs": [
    {
     "data": {
      "text/plain": [
       "1.099999999999999"
      ]
     },
     "execution_count": 20,
     "metadata": {},
     "output_type": "execute_result"
    }
   ],
   "source": [
    "np.real(X_1) / (a * N / 2.)\n",
    "np.cos(beta)\n",
    "np.arccos(np.real(X_1) / (a * N / 2.))"
   ]
  },
  {
   "cell_type": "markdown",
   "metadata": {},
   "source": [
    "In fact, these are the calculations done by the standard `np.abs, np.angle`\n",
    "functions:"
   ]
  },
  {
   "cell_type": "code",
   "execution_count": 21,
   "metadata": {},
   "outputs": [
    {
     "data": {
      "text/plain": [
       "1.099999999999999"
      ]
     },
     "execution_count": 21,
     "metadata": {},
     "output_type": "execute_result"
    }
   ],
   "source": [
    "np.abs(X_1)\n",
    "np.angle(X_1)"
   ]
  }
 ],
 "metadata": {},
 "nbformat": 4,
 "nbformat_minor": 2
}