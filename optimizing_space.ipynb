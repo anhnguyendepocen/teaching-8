{
 "cells": [
  {
   "cell_type": "markdown",
   "metadata": {},
   "source": [
    "$\\newcommand{L}[1]{\\| #1 \\|}\\newcommand{VL}[1]{\\L{ \\vec{#1} }}\\newcommand{R}[1]{\\operatorname{Re}\\,(#1)}\\newcommand{I}[1]{\\operatorname{Im}\\, (#1)}$\n",
    "\n",
    "## Calculating transformations between images\n",
    "\n",
    "In which we discover optimization, cost functions and how to use them."
   ]
  },
  {
   "cell_type": "code",
   "execution_count": null,
   "metadata": {},
   "outputs": [],
   "source": [
    "# - compatibility with Python 2\n",
    "from __future__ import print_function  # print('me') instead of print 'me'\n",
    "from __future__ import division  # 1/2 == 0.5, not 0"
   ]
  },
  {
   "cell_type": "code",
   "execution_count": null,
   "metadata": {},
   "outputs": [],
   "source": [
    "# - import common modules\n",
    "import numpy as np  # the Python array package\n",
    "import matplotlib.pyplot as plt  # the Python plotting package"
   ]
  },
  {
   "cell_type": "code",
   "execution_count": null,
   "metadata": {},
   "outputs": [],
   "source": [
    "# - set gray colormap and nearest neighbor interpolation by default\n",
    "plt.rcParams['image.cmap'] = 'gray'\n",
    "plt.rcParams['image.interpolation'] = 'nearest'"
   ]
  },
  {
   "cell_type": "code",
   "execution_count": null,
   "metadata": {},
   "outputs": [],
   "source": [
    "# Tell numpy to print numbers to 4 decimal places only\n",
    "np.set_printoptions(precision=4, suppress=True)"
   ]
  },
  {
   "cell_type": "code",
   "execution_count": null,
   "metadata": {},
   "outputs": [],
   "source": [
    "%matplotlib inline"
   ]
  },
  {
   "cell_type": "markdown",
   "metadata": {},
   "source": [
    "## Introduction\n",
    "\n",
    "We often want to work out some set of spatial transformations that will\n",
    "make one image be a better match to another.\n",
    "\n",
    "One example is motion correction in FMRI. We know that the subject moves\n",
    "over the course of an FMRI run. To correct for this, we may want to take\n",
    "each volume in the run, and match this volume to the first volume in the\n",
    "run. To do this, we need to work out what the best set of\n",
    "transformations are to match - say - volume 1 to volume 0.\n",
    "\n",
    "## Get the data\n",
    "\n",
    "We start with a single slice from the each of the first two volumes in\n",
    "the EPI (BOLD) data.\n",
    "\n",
    "We load the 4D EPI image [ds107_sub012_t1r2.nii](https://matthew-brett.github.io/teaching/_downloads/ds107_sub012_t1r2.nii), and get the data:"
   ]
  },
  {
   "cell_type": "code",
   "execution_count": null,
   "metadata": {},
   "outputs": [],
   "source": [
    "import nibabel as nib\n",
    "img = nib.load('ds107_sub012_t1r2.nii')\n",
    "data = img.get_data()\n",
    "data.shape"
   ]
  },
  {
   "cell_type": "markdown",
   "metadata": {},
   "source": [
    "We need to make our data into floating point to make processing easier\n",
    "later"
   ]
  },
  {
   "cell_type": "code",
   "execution_count": null,
   "metadata": {},
   "outputs": [],
   "source": [
    "data = data.astype(np.float32)"
   ]
  },
  {
   "cell_type": "markdown",
   "metadata": {},
   "source": [
    "Get the first and second volumes:"
   ]
  },
  {
   "cell_type": "code",
   "execution_count": null,
   "metadata": {},
   "outputs": [],
   "source": [
    "vol0 = data[..., 0]\n",
    "vol1 = data[..., 1]\n",
    "vol1.shape"
   ]
  },
  {
   "cell_type": "markdown",
   "metadata": {},
   "source": [
    "Now we get our slices. Here I am getting slice index 17 in z, from the\n",
    "first volume:"
   ]
  },
  {
   "cell_type": "code",
   "execution_count": null,
   "metadata": {},
   "outputs": [],
   "source": [
    "mid_vol0 = vol0[:, :, 17]\n",
    "plt.imshow(mid_vol0)"
   ]
  },
  {
   "cell_type": "markdown",
   "metadata": {},
   "source": [
    "Here is the corresponding slice from volume 1:"
   ]
  },
  {
   "cell_type": "code",
   "execution_count": null,
   "metadata": {},
   "outputs": [],
   "source": [
    "mid_vol1 = vol1[:, :, 17]\n",
    "plt.imshow(mid_vol1)"
   ]
  },
  {
   "cell_type": "markdown",
   "metadata": {},
   "source": [
    "We might want to match these two slices so they are in the same\n",
    "position. We will try and match the slices by moving the voxel values in\n",
    "slice 1 so that they are a better match to the voxel values in slice 0.\n",
    "Our job is to find the best set of transformations to do this.\n",
    "\n",
    "We would like to have some automatic way to calculate these\n",
    "transformations.\n",
    "\n",
    "The rest of this page is about how this automated method could (and\n",
    "does) work.\n",
    "\n",
    "At the moment it is hard to see any difference between the two images.\n",
    "That is still true even if we put the slices side by side:"
   ]
  },
  {
   "cell_type": "code",
   "execution_count": null,
   "metadata": {},
   "outputs": [],
   "source": [
    "fig, axes = plt.subplots(1, 2)\n",
    "axes[0].imshow(mid_vol0)\n",
    "axes[0].set_title('slice 0')\n",
    "axes[1].imshow(mid_vol1)\n",
    "axes[1].set_title('slice 1')"
   ]
  },
  {
   "cell_type": "markdown",
   "metadata": {},
   "source": [
    "The slices are very similar, because the movement between the two\n",
    "volumes is very small - often the movements in an FMRI run are less than\n",
    "a single voxel.\n",
    "\n",
    "In order to show the automated matching procedure in action, let’s start\n",
    "with an image that is obviously badly matched with slice 0. We will do\n",
    "this by pushing slice 0 (`mid_vol1`) 8 voxels down.\n",
    "\n",
    "After that we will try to match the shifted version\n",
    "(`shifted_mid_vol1`) to `mid_vol0`:"
   ]
  },
  {
   "cell_type": "code",
   "execution_count": null,
   "metadata": {},
   "outputs": [],
   "source": [
    "# Make slice full of zeros like mid_vol1 slice\n",
    "shifted_mid_vol1 = np.zeros(mid_vol1.shape)\n",
    "# Fill the lower 54 (of 64) x lines with mid_vol1\n",
    "shifted_mid_vol1[8:, :] = mid_vol1[:-8, :]\n",
    "# Now we have something like mid_vol1 but translated\n",
    "# in the first dimension\n",
    "plt.imshow(shifted_mid_vol1)"
   ]
  },
  {
   "cell_type": "markdown",
   "metadata": {},
   "source": [
    "# Formulating the matching problem\n",
    "\n",
    "Let’s say we did not know how many voxels the image had been translated.\n",
    "We want a good way to find out.\n",
    "\n",
    "Let’s put our problem in a more concrete form. We are going to try\n",
    "translating our `shifted_mid_vol1` over the first ($x$) axis.\n",
    "Call this translation $t$, so a movement of -5 voxels in $x$\n",
    "gives $t=-5$.\n",
    "\n",
    "Call the first image $\\mathbf{X}$ (`mid_vol0` in our case). Call\n",
    "the second image $\\mathbf{Y}$ (`shifted_mid_vol1` in our case).\n",
    "$\\mathbf{Y}_t$ is $\\mathbf{Y}$ translated in $x$ by\n",
    "$t$ voxels.\n",
    "\n",
    "$t$ is a good translation if the image $\\mathbf{Y}_t$ is a\n",
    "good match for image $\\mathbf{X}$.\n",
    "\n",
    "We need to quantify what we mean by good match. That is, we need some measure\n",
    "of quality of match, given two images $\\mathbf{X}$ and\n",
    "$\\mathbf{Y}$. Call this measure $M(\\mathbf{X}, \\mathbf{Y})$, and\n",
    "let us specify that the value of $M(\\mathbf{X}, \\mathbf{Y})$ should be\n",
    "lower when the images match well. We could therefore call $M(\\mathbf{X},\n",
    "\\mathbf{Y})$ a *mismatch* function.\n",
    "\n",
    "Now we can formulate our problem - we want to find the translation $t$\n",
    "that gives the lowest value of $M(\\mathbf{X}, \\mathbf{Y_t})$. We can\n",
    "express this as:\n",
    "\n",
    "$$\n",
    "\\hat{t} = \\mathrm{argmin}_t M(\\mathbf{X}, \\mathbf{Y_t})\n",
    "$$\n",
    "\n",
    "Read this as “the desired translation value $hat{t}$ is the value of $t$ such\n",
    "that $M(mathbf{X}, mathbf{Y_t})$ is minimized”.\n",
    "\n",
    "Practically, we are going to need the following things:\n",
    "\n",
    "* a function to generate $\\mathbf{Y_t}$ given $mathbf{Y}$ and $t$.\n",
    "  Call this the *transformation function*;\n",
    "\n",
    "* a function $M$ to give the mismatch between two images.  Call this the\n",
    "  *mismatch function*.\n",
    "\n",
    "Here’s the transformation function to generate $\\mathbf{Y_t}$ - the\n",
    "image $\\mathbf{Y}$ shifted by $t$ voxels in $x$:"
   ]
  },
  {
   "cell_type": "code",
   "execution_count": null,
   "metadata": {},
   "outputs": [],
   "source": [
    "def x_trans_slice(img_slice, x_vox_trans):\n",
    "    \"\"\" Return copy of `img_slice` translated by `x_vox_trans` voxels\n",
    "\n",
    "    Parameters\n",
    "    ----------\n",
    "    img_slice : array shape (M, N)\n",
    "        2D image to transform with translation `x_vox_trans`\n",
    "    x_vox_trans : int\n",
    "        Number of pixels (voxels) to translate `img_slice`; can be\n",
    "        positive or negative.\n",
    "\n",
    "    Returns\n",
    "    -------\n",
    "    img_slice_transformed : array shape (M, N)\n",
    "        2D image translated by `x_vox_trans` pixels (voxels).\n",
    "    \"\"\"\n",
    "    # Make a 0-filled array of same shape as `img_slice`\n",
    "    trans_slice = np.zeros(img_slice.shape)\n",
    "    # Use slicing to select voxels out of the image and move them\n",
    "    # up or down on the first (x) axis\n",
    "    if x_vox_trans < 0:\n",
    "        trans_slice[:x_vox_trans, :] = img_slice[-x_vox_trans:, :]\n",
    "    elif x_vox_trans == 0:\n",
    "        trans_slice[:, :] = img_slice\n",
    "    else:\n",
    "        trans_slice[x_vox_trans:, :] = img_slice[:-x_vox_trans, :]\n",
    "    return trans_slice"
   ]
  },
  {
   "cell_type": "markdown",
   "metadata": {},
   "source": [
    "# Choosing a metric for image mismatch\n",
    "\n",
    "Next we need a mismatch function that accepts two images, and returns a\n",
    "scalar value that is low when the images are well matched.\n",
    "\n",
    "We could imagine a mismatch measure that used the values from\n",
    "subtracting the two images:"
   ]
  },
  {
   "cell_type": "code",
   "execution_count": null,
   "metadata": {},
   "outputs": [],
   "source": [
    "plt.imshow(mid_vol0 - shifted_mid_vol1)"
   ]
  },
  {
   "cell_type": "markdown",
   "metadata": {},
   "source": [
    "Can we take the sum of this difference as our scalar measure of\n",
    "mismatch?\n",
    "\n",
    "No, because the negative numbers (black) will cancel out the positive numbers\n",
    "(white). We need something better:"
   ]
  },
  {
   "cell_type": "code",
   "execution_count": null,
   "metadata": {},
   "outputs": [],
   "source": [
    "def mean_abs_mismatch(slice0, slice1):\n",
    "    \"\"\" Mean absoute difference between images\n",
    "    \"\"\"\n",
    "    return np.mean(np.abs(slice0 - slice1))"
   ]
  },
  {
   "cell_type": "markdown",
   "metadata": {},
   "source": [
    "Now we can check different values of translation with our mismatch function.\n",
    "We move the image up and down for a range of values of $t$ and\n",
    "recalculate the mismatch measure for every candidate translation:"
   ]
  },
  {
   "cell_type": "code",
   "execution_count": null,
   "metadata": {},
   "outputs": [],
   "source": [
    "mismatches = []\n",
    "translations = range(-25, 15)  # Candidate values for t\n",
    "for t in translations:\n",
    "    # Make the translated image Y_t\n",
    "    unshifted = x_trans_slice(shifted_mid_vol1, t)\n",
    "    # Calculate the mismatch\n",
    "    mismatch = mean_abs_mismatch(unshifted, mid_vol0)\n",
    "    # Store it for later\n",
    "    mismatches.append(mismatch)"
   ]
  },
  {
   "cell_type": "code",
   "execution_count": null,
   "metadata": {},
   "outputs": [],
   "source": [
    "plt.plot(translations, mismatches)\n",
    "plt.xlabel('translation (t)')\n",
    "plt.ylabel('mean absolute difference')"
   ]
  },
  {
   "cell_type": "markdown",
   "metadata": {},
   "source": [
    "We can try other measures of mismatch. Another measure of how well the images\n",
    "match might be the correlation of the voxel values at each voxel.  When the\n",
    "images are well matched, we expect black values in one image to be matched\n",
    "with black in the other, ditto for white."
   ]
  },
  {
   "cell_type": "code",
   "execution_count": null,
   "metadata": {},
   "outputs": [],
   "source": [
    "# Number of voxels in the image\n",
    "n_voxels = np.prod(mid_vol1.shape)\n",
    "# Reshape vol0 slice as 1D vector\n",
    "mid_vol0_as_1d = mid_vol0.reshape(n_voxels)\n",
    "# Reshape vol1 slice as 1D vector\n",
    "mid_vol1_as_1d = mid_vol1.reshape(n_voxels)\n",
    "# These original slices should be very close to each other already\n",
    "# So - plotting one set of image values against the other should\n",
    "# be close to a straight line\n",
    "plt.plot(mid_vol0_as_1d, mid_vol1_as_1d, '.')\n",
    "plt.xlabel('voxels in vol0 slice')\n",
    "plt.ylabel('voxels in original vol1 slice')\n",
    "# Correlation coefficient between them\n",
    "print(np.corrcoef(mid_vol0_as_1d, mid_vol1_as_1d)[0, 1])"
   ]
  },
  {
   "cell_type": "code",
   "execution_count": null,
   "metadata": {},
   "outputs": [],
   "source": [
    "# The shifted slice will be less well matched\n",
    "# Therefore the line will be less straight and narrow\n",
    "plt.plot(mid_vol0_as_1d, shifted_mid_vol1.ravel(), '.')\n",
    "plt.xlabel('voxels in vol0 slice')\n",
    "plt.ylabel('voxels in shifted vol1 slice')\n",
    "# Correlation coefficient between them will be nearer 0\n",
    "print(np.corrcoef(mid_vol0_as_1d, shifted_mid_vol1.ravel())[0, 1])"
   ]
  },
  {
   "cell_type": "markdown",
   "metadata": {},
   "source": [
    "We expect that the correlation will be high and positive when the images are\n",
    "well matched. Our *mismatch measure*, on the other hand, should be *low* when\n",
    "the images are well-matched. So, we can use the negative correlation as our\n",
    "mismatch measure:"
   ]
  },
  {
   "cell_type": "code",
   "execution_count": null,
   "metadata": {},
   "outputs": [],
   "source": [
    "def correl_mismatch(slice0, slice1):\n",
    "    \"\"\" Negative correlation between the two images, flattened to 1D \"\"\"\n",
    "    correl = np.corrcoef(slice0.ravel(), slice1.ravel())[0, 1]\n",
    "    return -correl"
   ]
  },
  {
   "cell_type": "code",
   "execution_count": null,
   "metadata": {},
   "outputs": [],
   "source": [
    "correl_mismatches = []\n",
    "translations = range(-25, 15)  # Candidate values for t\n",
    "for t in translations:\n",
    "    unshifted = x_trans_slice(shifted_mid_vol1, t)\n",
    "    mismatch = correl_mismatch(unshifted, mid_vol0)\n",
    "    correl_mismatches.append(mismatch)"
   ]
  },
  {
   "cell_type": "code",
   "execution_count": null,
   "metadata": {},
   "outputs": [],
   "source": [
    "plt.plot(translations, correl_mismatches)\n",
    "plt.xlabel('translation (t)')\n",
    "plt.ylabel('correlation mismatch')"
   ]
  },
  {
   "cell_type": "markdown",
   "metadata": {},
   "source": [
    "So far we have only tried translations of integer numbers of voxels (0,\n",
    "1, 2, 3…).\n",
    "\n",
    "How about non-integer translations? Will these work?\n",
    "\n",
    "To do a non-integer translation, we have to think more generally about\n",
    "how to make an image that matches another image, after a transformation.\n",
    "\n",
    "# Resampling in 2D\n",
    "\n",
    "We need a more general resampling algorithm. This is like the [1D\n",
    "interpolation](https://matthew-brett.github.io/teaching/linear_interpolation.html) we do for [Slice timing correction](https://matthew-brett.github.io/teaching/slice_timing.html), but in\n",
    "two dimensions.\n",
    "\n",
    "Let’s say we want to do a voxel translation of 0.5 voxels in x. The way we\n",
    "might go about this is the following.\n",
    "\n",
    "To start, here are some names:\n",
    "\n",
    "* `img0` is the image we are trying to match to (in our case\n",
    "  `mid_vol0`);\n",
    "\n",
    "* `img1` is the image we are trying to match by moving (in our case\n",
    "  `shifted_mid_vol1`);\n",
    "\n",
    "* `trans` is the transformation from pixel coordinates in `img1` to\n",
    "  pixel coordinates in `img0` (in our case adding 0.5 to the first\n",
    "  coordinate value, so that [0, 0] becomes [0.5, 0]);\n",
    "\n",
    "* `itrans` is the inverse of `trans`, and gives the transformation\n",
    "  to go from pixel coordinates in `img0` to pixel coordinates in\n",
    "  `img1`. In our case this is *subtracting* 0.5 from the first\n",
    "  coordinate value.\n",
    "\n",
    "The procedure for resampling is:\n",
    "\n",
    "* Make a 2D image the same shape as the image we want to match to\n",
    "  (`img0`) - call this `new_img0`;\n",
    "\n",
    "* For each pixel in `new_img0`;\n",
    "\n",
    "  * call the pixel coordinate for this pixel: `coord_for_img0`;\n",
    "\n",
    "  * transform `coord_for_img0` using `itrans`. In our case this\n",
    "    would be to subtract 0.5 from the first coordinate value ([0, 0]\n",
    "    becomes [-0.5, 0]). Call the transformed coordinate\n",
    "    `coord_for_img1`;\n",
    "\n",
    "  * Estimate the pixel value in `img1` at coordinate\n",
    "    `coord_for_img1`. Call this value `img1_value_estimate`;\n",
    "\n",
    "  * Insert `img1_value` into `new_img0` at coordinate\n",
    "    `coord_for_img0`.\n",
    "\n",
    "The “Estimate pixel value” step is called *resampling*. As you can see this is\n",
    "the same general idea as [interpolating in one dimension](https://matthew-brett.github.io/teaching/linear_interpolation.html). We saw one dimensional interpolation for\n",
    "[Slice timing correction](https://matthew-brett.github.io/teaching/slice_timing.html).  There are various ways of interpolating in two or three\n",
    "dimensions, but one of the most obvious is the simple extension of linear\n",
    "interpolation to two (or more) dimensions - [bilinear interpolation](http://en.wikipedia.org/wiki/Bilinear_interpolation).\n",
    "\n",
    "The `scipy.ndimage` library has routines for resampling in 2 or 3\n",
    "dimensions:"
   ]
  },
  {
   "cell_type": "code",
   "execution_count": null,
   "metadata": {},
   "outputs": [],
   "source": [
    "import scipy.ndimage as snd"
   ]
  },
  {
   "cell_type": "markdown",
   "metadata": {},
   "source": [
    "In fact the `affine_transform` function from `scipy.ndimage` will do\n",
    "the whole process for us."
   ]
  },
  {
   "cell_type": "code",
   "execution_count": null,
   "metadata": {},
   "outputs": [],
   "source": [
    "def fancy_x_trans_slice(img_slice, x_vox_trans):\n",
    "    \"\"\" Return copy of `img_slice` translated by `x_vox_trans` voxels\n",
    "\n",
    "    Parameters\n",
    "    ----------\n",
    "    img_slice : array shape (M, N)\n",
    "        2D image to transform with translation `x_vox_trans`\n",
    "    x_vox_trans : float\n",
    "        Number of pixels (voxels) to translate `img_slice`; can be\n",
    "        positive or negative, and does not need to be integer value.\n",
    "    \"\"\"\n",
    "    # Resample image using bilinear interpolation (order=1)\n",
    "    trans_slice = snd.affine_transform(img_slice, [1, 1], [-x_vox_trans, 0], order=1)\n",
    "    return trans_slice"
   ]
  },
  {
   "cell_type": "code",
   "execution_count": null,
   "metadata": {},
   "outputs": [],
   "source": [
    "fine_mismatches = []\n",
    "fine_translations = np.linspace(-25, 15, 100)\n",
    "for t in fine_translations:\n",
    "    unshifted = fancy_x_trans_slice(shifted_mid_vol1, t)\n",
    "    mismatch = correl_mismatch(unshifted, mid_vol0)\n",
    "    fine_mismatches.append(mismatch)"
   ]
  },
  {
   "cell_type": "code",
   "execution_count": null,
   "metadata": {},
   "outputs": [],
   "source": [
    "plt.plot(fine_translations, fine_mismatches)"
   ]
  },
  {
   "cell_type": "markdown",
   "metadata": {},
   "source": [
    "We are looking for the best x translation. At the moment we have to sample\n",
    "lots of x translations and then choose the best. Is there a better way?\n",
    "\n",
    "# Optimization\n",
    "\n",
    "[Optimization](http://en.wikipedia.org/wiki/Mathematical_optimization) is a field of mathematics / computer science that solves this\n",
    "exact problem.\n",
    "\n",
    "There are many optimization routines in Python, MATLAB and other languages.\n",
    "These routines typically allow you to pass some function, called the\n",
    "*objective* function, or the *cost* function. The optimization routine returns\n",
    "the parameters of the cost function that give the lowest value.\n",
    "\n",
    "In our case, the cost function we need to minimize will accept one parameter\n",
    "(the translation), and return the mismatch value for that translation. So, it\n",
    "will need to create the image $\\mathbf{X_t}$ and return\n",
    "$M(\\mathbf{X}, \\mathbf{Y_t})$.\n",
    "\n",
    "What does it mean to “pass” a function in Python. Remember that, in Python,\n",
    "[Functions are objects](https://matthew-brett.github.io/teaching/functions_are_objects.html) like any other.\n",
    "\n",
    "The optimization works by running the cost function at some starting\n",
    "value of the parameter (in our case, x translation), and using an\n",
    "algorithm to choose the next value of the parameter to try. It continues\n",
    "trying new values until it finds a parameter value for which very small\n",
    "changes of the parameter up or down only increase the cost function\n",
    "value. At this point the routine stops and returns the parameter value.\n",
    "\n",
    "To write the cost function, we use the fact that Python functions can access\n",
    "variables defined in the [Global and local scope of Python variables](https://matthew-brett.github.io/teaching/global_scope.html). In our case the function\n",
    "`cost_function` can access variables `shifted_mid_vol1` and `mid_vol0`\n",
    "that we defined in the top level (global) scope of our interactive session:"
   ]
  },
  {
   "cell_type": "code",
   "execution_count": null,
   "metadata": {},
   "outputs": [],
   "source": [
    "def cost_function(x_trans):\n",
    "    # Function can use image slices defined in the global scope\n",
    "    # Calculate X_t - image translated by x_trans\n",
    "    unshifted = fancy_x_trans_slice(shifted_mid_vol1, x_trans)\n",
    "    # Return mismatch measure for the translated image X_t\n",
    "    return correl_mismatch(unshifted, mid_vol0)"
   ]
  },
  {
   "cell_type": "code",
   "execution_count": null,
   "metadata": {},
   "outputs": [],
   "source": [
    "# value of the negative correlation for no translatino\n",
    "print(cost_function(0))"
   ]
  },
  {
   "cell_type": "code",
   "execution_count": null,
   "metadata": {},
   "outputs": [],
   "source": [
    "# value of the negative correlation for translation of -8 voxels\n",
    "print(cost_function(-8))"
   ]
  },
  {
   "cell_type": "markdown",
   "metadata": {},
   "source": [
    "Now we get a general optimizing routine from the `scipy` Python\n",
    "library. `fmin_powell` finds the minimum of a function using [Powell’s\n",
    "method](https://en.wikipedia.org/wiki/Powell%27s_method) of numerical\n",
    "optimization:"
   ]
  },
  {
   "cell_type": "code",
   "execution_count": null,
   "metadata": {},
   "outputs": [],
   "source": [
    "from scipy.optimize import fmin_powell"
   ]
  },
  {
   "cell_type": "markdown",
   "metadata": {},
   "source": [
    "We pass the `fmin_powell` routine our Python cost function, and a\n",
    "starting value of zero for the translation:"
   ]
  },
  {
   "cell_type": "code",
   "execution_count": null,
   "metadata": {},
   "outputs": [],
   "source": [
    "print(fmin_powell(cost_function, [0]))"
   ]
  },
  {
   "cell_type": "markdown",
   "metadata": {},
   "source": [
    "The function ran, and found that a translation value very close to -8 gave the\n",
    "smallest value for our cost function.\n",
    "\n",
    "What actually happened there? Let’s track the progress of `fmin_powell`\n",
    "using a callback function:"
   ]
  },
  {
   "cell_type": "code",
   "execution_count": null,
   "metadata": {},
   "outputs": [],
   "source": [
    "def my_callback(params):\n",
    "   print(\"Trying parameters \" + str(params))"
   ]
  },
  {
   "cell_type": "markdown",
   "metadata": {},
   "source": [
    "`fmin_powell` calls this `my_callback` function when it is testing a new\n",
    "set of parameters."
   ]
  },
  {
   "cell_type": "code",
   "execution_count": null,
   "metadata": {},
   "outputs": [],
   "source": [
    "best_params = fmin_powell(cost_function, [0], callback=my_callback)\n",
    "print(best_params)"
   ]
  },
  {
   "cell_type": "markdown",
   "metadata": {},
   "source": [
    "The optimization routine `fmin_powell` is trying various different\n",
    "translations, finally coming to the optimum (minimum) translation close to -8.\n",
    "\n",
    "# More than one parameter\n",
    "\n",
    "How about adding y translation as well?\n",
    "\n",
    "Our optimization routine could deal with this in a very simple way - by\n",
    "optimizing the x translation, then the y translation, like this:\n",
    "\n",
    "* Adjust the x translation until it has reached a minimum, then;\n",
    "\n",
    "* Adjust the y translation until it has reached a minimum, then;\n",
    "\n",
    "* Repeat x, y minimization until the minimum for both is stable.\n",
    "\n",
    "Although we could do that, in fact `fmin_powell` does something slightly\n",
    "more complicated when looking for the next best set of parameters to try. The\n",
    "details aren’t important to the general idea of searching over different\n",
    "parameter values to find the lowest value for the cost function."
   ]
  },
  {
   "cell_type": "code",
   "execution_count": null,
   "metadata": {},
   "outputs": [],
   "source": [
    "def fancy_xy_trans_slice(img_slice, x_y_trans):\n",
    "    \"\"\" Make a copy of `img_slice` translated by `x_y_trans` voxels\n",
    "\n",
    "    x_y_trans is a sequence or array length 2, containing\n",
    "    the (x, y) translations in voxels.\n",
    "\n",
    "    Values in `x_y_trans` can be positive or negative, and\n",
    "    can be floats.\n",
    "    \"\"\"\n",
    "    x_y_trans = np.array(x_y_trans)\n",
    "    # Resample image using bilinear interpolation (order=1)\n",
    "    trans_slice = snd.affine_transform(img_slice, [1, 1], -x_y_trans, order=1)\n",
    "    return trans_slice"
   ]
  },
  {
   "cell_type": "code",
   "execution_count": null,
   "metadata": {},
   "outputs": [],
   "source": [
    "def fancy_cost_at_xy(x_y_trans):\n",
    "    \"\"\" Give cost function at xy translation values `x_y_trans`\n",
    "    \"\"\"\n",
    "    unshifted = fancy_xy_trans_slice(shifted_mid_vol1, x_y_trans)\n",
    "    return correl_mismatch(unshifted, mid_vol0)"
   ]
  },
  {
   "cell_type": "markdown",
   "metadata": {},
   "source": [
    "Do the optimization of `fancy_cost_at_xy` using `fmin_powell`:"
   ]
  },
  {
   "cell_type": "code",
   "execution_count": null,
   "metadata": {},
   "outputs": [],
   "source": [
    "best_params = fmin_powell(fancy_cost_at_xy, [0, 0], callback=my_callback)\n",
    "best_params"
   ]
  },
  {
   "cell_type": "markdown",
   "metadata": {},
   "source": [
    "(You probably noticed that `fmin_powell` appears to be sticking to the right\n",
    "answer for y translation (0), without printing out any evidence that it is\n",
    "trying other y values. This is because of the way that the Powell optimization\n",
    "works - it is in effect doing separate 1-parameter minimizations in order to\n",
    "get the final 2-parameter minimization, and it is not reporting the\n",
    "intermediate steps in the 1-parameter minimizations)\n",
    "\n",
    "# Full 3D estimate\n",
    "\n",
    "Now we know how to do two parameters, it is easy to extend this to six\n",
    "parameters.\n",
    "\n",
    "The six parameters are:\n",
    "\n",
    "* x translation\n",
    "\n",
    "* y translation\n",
    "\n",
    "* z translation\n",
    "\n",
    "* rotation around x axis (pitch)\n",
    "\n",
    "* rotation around y axis (roll)\n",
    "\n",
    "* rotation around z axis (yaw)\n",
    "\n",
    "Any transformation with these parameters is called a *rigid body*\n",
    "transformation because the transformation cannot make the object change shape\n",
    "(the object is *rigid*).\n",
    "\n",
    "Implementing the rotations is just slightly out of scope for this tutorial (we\n",
    "would have to convert between angles and [rotation matrices](https://en.wikipedia.org/wiki/Rotation_matrix)), so here is the\n",
    "3D optimization with the three translation parameters:\n",
    "\n",
    "To make it a bit more interesting, shift the second volume 8 voxels on\n",
    "the first axis, as we did for the 2D case. We will also push the image 5\n",
    "voxels forward on the second axis:"
   ]
  },
  {
   "cell_type": "code",
   "execution_count": null,
   "metadata": {},
   "outputs": [],
   "source": [
    "shifted_vol1 = np.zeros(vol1.shape)\n",
    "shifted_vol1[8:, 5:, :] = vol1[:-8, :-5, :]\n",
    "plt.imshow(shifted_vol1[:, :, 17])"
   ]
  },
  {
   "cell_type": "markdown",
   "metadata": {},
   "source": [
    "We define resampling for any given x, y, z translation:"
   ]
  },
  {
   "cell_type": "code",
   "execution_count": null,
   "metadata": {},
   "outputs": [],
   "source": [
    "def xyz_trans_vol(vol, x_y_z_trans):\n",
    "    \"\"\" Make a new copy of `vol` translated by `x_y_z_trans` voxels\n",
    "\n",
    "    x_y_z_trans is a sequence or array length 3, containing\n",
    "    the (x, y, z) translations in voxels.\n",
    "\n",
    "    Values in `x_y_z_trans` can be positive or negative,\n",
    "    and can be floats.\n",
    "    \"\"\"\n",
    "    x_y_z_trans = np.array(x_y_z_trans)\n",
    "    # [1, 1, 1] says to do no zooming or rotation\n",
    "    # Resample image using trilinear interpolation (order=1)\n",
    "    trans_vol = snd.affine_transform(vol, [1, 1, 1], -x_y_z_trans, order=1)\n",
    "    return trans_vol"
   ]
  },
  {
   "cell_type": "markdown",
   "metadata": {},
   "source": [
    "Our cost function (picking up `vol0`, `shifted_vol1` from the global\n",
    "scope):"
   ]
  },
  {
   "cell_type": "code",
   "execution_count": null,
   "metadata": {},
   "outputs": [],
   "source": [
    "def cost_at_xyz(x_y_z_trans):\n",
    "    \"\"\" Give cost function value at xyz translation values `x_y_z_trans`\n",
    "    \"\"\"\n",
    "    unshifted = xyz_trans_vol(shifted_vol1, x_y_z_trans)\n",
    "    return correl_mismatch(unshifted, vol0)"
   ]
  },
  {
   "cell_type": "markdown",
   "metadata": {},
   "source": [
    "Do the optimization of `cost_at_xyz` using `fmin_powell`:"
   ]
  },
  {
   "cell_type": "code",
   "execution_count": null,
   "metadata": {},
   "outputs": [],
   "source": [
    "best_params = fmin_powell(cost_at_xyz, [0, 0, 0], callback=my_callback)\n",
    "best_params"
   ]
  },
  {
   "cell_type": "markdown",
   "metadata": {},
   "source": [
    "Finally, we make a new volume from `shifted_vol1` with these\n",
    "transformations applied:"
   ]
  },
  {
   "cell_type": "code",
   "execution_count": null,
   "metadata": {},
   "outputs": [],
   "source": [
    "unshifted_vol1 = snd.affine_transform(shifted_vol1, [1, 1, 1], -best_params)"
   ]
  },
  {
   "cell_type": "code",
   "execution_count": null,
   "metadata": {},
   "outputs": [],
   "source": [
    "fig, axes = plt.subplots(1, 2)\n",
    "axes[0].imshow(vol0[:, :, 17])\n",
    "axes[0].set_title('vol0')\n",
    "axes[1].imshow(unshifted_vol1[:, :, 17])\n",
    "axes[1].set_title('unshifted vol1')"
   ]
  },
  {
   "cell_type": "markdown",
   "metadata": {},
   "source": [
    "# Getting stuck in the wrong place\n",
    "\n",
    "So far, all our cost function plots are simple, in the sense that they\n",
    "have one single obvious minimum. For example, here is a repeat of our\n",
    "earlier plot of the negative correlation value, as a function of\n",
    "translation in x, for the shifted single slice:"
   ]
  },
  {
   "cell_type": "code",
   "execution_count": null,
   "metadata": {},
   "outputs": [],
   "source": [
    "correl_mismatches = []\n",
    "translations = range(-25, 15)  # Candidate values for t\n",
    "for t in translations:\n",
    "    unshifted = x_trans_slice(shifted_mid_vol1, t)\n",
    "    mismatch = correl_mismatch(unshifted, mid_vol0)\n",
    "    correl_mismatches.append(mismatch)"
   ]
  },
  {
   "cell_type": "code",
   "execution_count": null,
   "metadata": {},
   "outputs": [],
   "source": [
    "plt.plot(translations, correl_mismatches)\n",
    "plt.title('Cost as a function of $t$')"
   ]
  },
  {
   "cell_type": "markdown",
   "metadata": {},
   "source": [
    "Notice the nice single minimum at around $t=-8$.\n",
    "\n",
    "Unfortunately, many cost functions don’t have one single minimum, but\n",
    "several. In fact this is so even for our simple correlation measure, if\n",
    "we look at larger translations (values of $t$):"
   ]
  },
  {
   "cell_type": "code",
   "execution_count": null,
   "metadata": {},
   "outputs": [],
   "source": [
    "correl_mismatches = []\n",
    "translations = range(-60, 50)  # Candidate values for t\n",
    "for t in translations:\n",
    "    unshifted = x_trans_slice(shifted_mid_vol1, t)\n",
    "    mismatch = correl_mismatch(unshifted, mid_vol0)\n",
    "    correl_mismatches.append(mismatch)"
   ]
  },
  {
   "cell_type": "code",
   "execution_count": null,
   "metadata": {},
   "outputs": [],
   "source": [
    "plt.plot(translations, correl_mismatches)\n",
    "plt.title('Cost as a function of more $t$')"
   ]
  },
  {
   "cell_type": "markdown",
   "metadata": {},
   "source": [
    "Remember that a minimum is a value for which the values to the left and\n",
    "right are higher. So, the -8 value of $t$ is a minimum (with a negative\n",
    "correlation value of -1), but the value at around $t=44$ is also a\n",
    "minimum, with a negative correlation value of around 0.2. The value at\n",
    "$t=-8$ is a *global minimum* in the sense that it is the minimum with\n",
    "the lowest cost value across all values of $t$. The value at around\n",
    "$t=44$ is a *local minimum*.\n",
    "\n",
    "In general, our optimization routines are only able to guarantee that they\n",
    "have found a local minimum. So, if we start our search in the wrong place,\n",
    "then the optimization routine may well find the wrong minimum.\n",
    "\n",
    "Here is our original 1 parameter cost function (it is the same as the version\n",
    "above):"
   ]
  },
  {
   "cell_type": "code",
   "execution_count": null,
   "metadata": {},
   "outputs": [],
   "source": [
    "def cost_function(x_trans):\n",
    "    # Function can use image slices defined in the\n",
    "    # global Python scope.\n",
    "    # Calculate X_t - image translated by x_trans\n",
    "    unshifted = fancy_x_trans_slice(shifted_mid_vol1, x_trans)\n",
    "    # Return mismatch measure for the translated image X_t\n",
    "    return correl_mismatch(unshifted, mid_vol0)"
   ]
  },
  {
   "cell_type": "markdown",
   "metadata": {},
   "source": [
    "Now we minimize this cost function with `fmin_powell`, but starting\n",
    "nearer the local minimum:"
   ]
  },
  {
   "cell_type": "code",
   "execution_count": null,
   "metadata": {},
   "outputs": [],
   "source": [
    "print(fmin_powell(cost_function, [35]))"
   ]
  },
  {
   "cell_type": "markdown",
   "metadata": {},
   "source": [
    "Here we took a very bad starting value, but we would run the same risk\n",
    "if the images started off much further apart and we gave a starting\n",
    "value of 0.\n",
    "\n",
    "One major part of using optimization, is being aware that it is possible\n",
    "for the optimization to find a “best” value that is a local rather than\n",
    "a global minimum. The art of optimization is finding a minimization\n",
    "algorithm and mismatch metric that are well-adapted to the particular\n",
    "problem.\n",
    "\n",
    "<!-- A file containing links and substitutions -->\n",
    "<!-- vim: ft=rst -->\n",
    "<!-- Version control -->\n",
    "<!-- Editors -->\n",
    "<!-- Python and common libraries -->\n",
    "<!-- Virtualenv and helpers -->\n",
    "<!-- Pypi and packaging -->\n",
    "<!-- Mac development -->\n",
    "<!-- Windows development -->\n",
    "<!-- Nipy and friends -->\n",
    "<!-- Mathematics -->\n",
    "<!-- Licenses -->\n",
    "<!-- Neuroimaging stuff -->\n",
    "<!-- People -->\n",
    "<!-- Substitutions -->"
   ]
  }
 ],
 "metadata": {},
 "nbformat": 4,
 "nbformat_minor": 2
}