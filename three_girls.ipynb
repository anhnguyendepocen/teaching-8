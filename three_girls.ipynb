{
 "cells": [
  {
   "cell_type": "markdown",
   "metadata": {},
   "source": [
    "In which we explore using random numbers to answer questions about probability."
   ]
  },
  {
   "cell_type": "markdown",
   "metadata": {},
   "source": [
    "In a family with 4 children, what is the probability of 3 girls and 1 boy?"
   ]
  },
  {
   "cell_type": "markdown",
   "metadata": {},
   "source": [
    "We can work this out with an event tree, but another way to do this is to simulate what is happening."
   ]
  },
  {
   "cell_type": "markdown",
   "metadata": {},
   "source": [
    "Say the probability of having a girl or a boy is 0.5 (50 percent).   The probability of a head or a tail from a coin toss is also 50%.  So we could simulate one family with four children, by tossing a coin four times, and recording the number of heads, where heads stands for \"girl\" and \"tails\" stands for boy."
   ]
  },
  {
   "cell_type": "markdown",
   "metadata": {},
   "source": [
    "If we did this four coin-toss trial many many times, and counted what proportion of trials we get three heads (three girls) then we'd get the \"long run\" probability that a family of four children has four girls."
   ]
  },
  {
   "cell_type": "markdown",
   "metadata": {},
   "source": [
    "It's boring to do that with actual coins and pieces of paper, and this is the kind of boring task a computer is particularly good at."
   ]
  },
  {
   "cell_type": "markdown",
   "metadata": {},
   "source": [
    "First we need the computer to simulate a coin toss.  We want the computer to randomly return something signalling \"heads\" or \"tails\".  Fortunately, Python has something to do that for us already, in its `random` package.  It is a function called `choice`:"
   ]
  },
  {
   "cell_type": "code",
   "execution_count": 1,
   "metadata": {
    "collapsed": true
   },
   "outputs": [],
   "source": [
    "from random import choice    "
   ]
  },
  {
   "cell_type": "markdown",
   "metadata": {},
   "source": [
    "We pass this function the choices that we want it to choose from.   Let's use `'H'` for \"heads\" and `'T'` for \"tails\".  So the choices that we want `choice` to choose from are `['H', 'T']`."
   ]
  },
  {
   "cell_type": "code",
   "execution_count": 2,
   "metadata": {},
   "outputs": [
    {
     "data": {
      "text/plain": [
       "'T'"
      ]
     },
     "execution_count": 2,
     "metadata": {},
     "output_type": "execute_result"
    }
   ],
   "source": [
    "choice(['H', 'T'])"
   ]
  },
  {
   "cell_type": "markdown",
   "metadata": {},
   "source": [
    "Let's do a few more coin tosses to see if the answers are plausibly random:"
   ]
  },
  {
   "cell_type": "code",
   "execution_count": 3,
   "metadata": {},
   "outputs": [
    {
     "data": {
      "text/plain": [
       "'T'"
      ]
     },
     "execution_count": 3,
     "metadata": {},
     "output_type": "execute_result"
    }
   ],
   "source": [
    "choice(['H', 'T'])"
   ]
  },
  {
   "cell_type": "code",
   "execution_count": 4,
   "metadata": {},
   "outputs": [
    {
     "data": {
      "text/plain": [
       "'T'"
      ]
     },
     "execution_count": 4,
     "metadata": {},
     "output_type": "execute_result"
    }
   ],
   "source": [
    "choice(['H', 'T'])"
   ]
  },
  {
   "cell_type": "code",
   "execution_count": 5,
   "metadata": {},
   "outputs": [
    {
     "data": {
      "text/plain": [
       "'T'"
      ]
     },
     "execution_count": 5,
     "metadata": {},
     "output_type": "execute_result"
    }
   ],
   "source": [
    "choice(['H', 'T'])"
   ]
  },
  {
   "cell_type": "markdown",
   "metadata": {},
   "source": [
    "Now we can do one coin toss, but our trial is four coin tosses.  We could write down the results we get from `choice`, but that would almost as boring as tossing the coin and writing it down.  How do we collect the four coin tosses we need for our trial?  To do this, we are going to use a Python `list`."
   ]
  },
  {
   "cell_type": "markdown",
   "metadata": {},
   "source": [
    "You saw above that we passed our choices as `['H', 'T']`.  In fact `['H', 'T']` is a Python `list`.  Lists are very useful.  As you will see, we can add and remove things from lists, count how many of a particular value there are, and do many other useful things.  To start with, here is an empty list:"
   ]
  },
  {
   "cell_type": "code",
   "execution_count": 6,
   "metadata": {},
   "outputs": [
    {
     "data": {
      "text/plain": [
       "[]"
      ]
     },
     "execution_count": 6,
     "metadata": {},
     "output_type": "execute_result"
    }
   ],
   "source": [
    "my_list = []\n",
    "my_list"
   ]
  },
  {
   "cell_type": "markdown",
   "metadata": {},
   "source": [
    "We can append to the list like this:"
   ]
  },
  {
   "cell_type": "code",
   "execution_count": 7,
   "metadata": {},
   "outputs": [
    {
     "data": {
      "text/plain": [
       "['B']"
      ]
     },
     "execution_count": 7,
     "metadata": {},
     "output_type": "execute_result"
    }
   ],
   "source": [
    "my_list.append('B')\n",
    "my_list"
   ]
  },
  {
   "cell_type": "code",
   "execution_count": 8,
   "metadata": {},
   "outputs": [
    {
     "data": {
      "text/plain": [
       "['B', 'A']"
      ]
     },
     "execution_count": 8,
     "metadata": {},
     "output_type": "execute_result"
    }
   ],
   "source": [
    "my_list.append('A')\n",
    "my_list"
   ]
  },
  {
   "cell_type": "markdown",
   "metadata": {},
   "source": [
    "So, one way we could do our trial would be:"
   ]
  },
  {
   "cell_type": "code",
   "execution_count": 9,
   "metadata": {},
   "outputs": [
    {
     "data": {
      "text/plain": [
       "['H', 'T', 'H', 'T']"
      ]
     },
     "execution_count": 9,
     "metadata": {},
     "output_type": "execute_result"
    }
   ],
   "source": [
    "coin_tosses = []\n",
    "# First coin toss\n",
    "coin_toss_1 = choice(['H', 'T'])\n",
    "coin_tosses.append(coin_toss_1)\n",
    "# Second coin toss\n",
    "coin_toss_2 = choice(['H', 'T'])\n",
    "coin_tosses.append(coin_toss_2)\n",
    "# Third coin toss\n",
    "coin_toss_3 = choice(['H', 'T'])\n",
    "coin_tosses.append(coin_toss_3)\n",
    "# Fourth coin toss\n",
    "coin_toss_4 = choice(['H', 'T'])\n",
    "coin_tosses.append(coin_toss_4)\n",
    "# The result is a list of four values from ['H', 'T']\n",
    "coin_tosses"
   ]
  },
  {
   "cell_type": "markdown",
   "metadata": {},
   "source": [
    "Now we have got the computer to do one trial.  But, going through the four coin tosses looks a bit ugly, we are typing something very similar for each of the four coin tosses.  Can't the computer just repeat the same thing four times?  Why, yes it can.  Here is the whole trial, but using a loop to do the work:"
   ]
  },
  {
   "cell_type": "code",
   "execution_count": 10,
   "metadata": {},
   "outputs": [
    {
     "data": {
      "text/plain": [
       "['H', 'H', 'T', 'H']"
      ]
     },
     "execution_count": 10,
     "metadata": {},
     "output_type": "execute_result"
    }
   ],
   "source": [
    "coin_tosses = []\n",
    "number_of_tosses = 0\n",
    "while number_of_tosses < 4:\n",
    "    # Keep going until we have four coin tosses\n",
    "    coin_toss = choice(['H', 'T'])\n",
    "    coin_tosses.append(coin_toss)\n",
    "    number_of_tosses = number_of_tosses + 1\n",
    "    # Now go back to the \"while\" line, unless the \"while\" check gives True\n",
    "coin_tosses"
   ]
  },
  {
   "cell_type": "markdown",
   "metadata": {},
   "source": [
    "Now we have done our trial, we want to know how many of `'H'` there are.  We can use the `count` method of the list for that:"
   ]
  },
  {
   "cell_type": "code",
   "execution_count": 11,
   "metadata": {},
   "outputs": [
    {
     "data": {
      "text/plain": [
       "3"
      ]
     },
     "execution_count": 11,
     "metadata": {},
     "output_type": "execute_result"
    }
   ],
   "source": [
    "coin_tosses.count('H')"
   ]
  },
  {
   "cell_type": "markdown",
   "metadata": {},
   "source": [
    "The next step is to do lots and lots of trials.  We don't want to type out each trial one by one.  It's time for another loop.  We are going to repeat our trial 10,000 times, and see what proportion of trials have 3 heads = 3 girls:"
   ]
  },
  {
   "cell_type": "code",
   "execution_count": 12,
   "metadata": {},
   "outputs": [
    {
     "data": {
      "text/plain": [
       "0.2529"
      ]
     },
     "execution_count": 12,
     "metadata": {},
     "output_type": "execute_result"
    }
   ],
   "source": [
    "count_for_3_girls = 0\n",
    "number_of_repeats = 0\n",
    "while number_of_repeats < 10000:\n",
    "    coin_tosses = []\n",
    "    number_of_tosses = 0\n",
    "    while number_of_tosses < 4:\n",
    "        # Keep going until we have four coin tosses\n",
    "        coin_toss = choice(['H', 'T'])\n",
    "        coin_tosses.append(coin_toss)\n",
    "        number_of_tosses = number_of_tosses + 1\n",
    "        # Now go back to the \"while\" line, unless the \"while\" check gives True\n",
    "    if coin_tosses.count('H') == 3:\n",
    "        count_for_3_girls = count_for_3_girls + 1\n",
    "    number_of_repeats = number_of_repeats + 1\n",
    "count_for_3_girls / 10000.0"
   ]
  },
  {
   "cell_type": "markdown",
   "metadata": {},
   "source": [
    "What's the answer?  What proportion of families with four children, roughly, have 3 girls and 1 boy?"
   ]
  }
 ],
 "metadata": {
  "kernelspec": {
   "display_name": "Python 3",
   "language": "python",
   "name": "python3"
  },
  "language_info": {
   "codemirror_mode": {
    "name": "ipython",
    "version": 3
   },
   "file_extension": ".py",
   "mimetype": "text/x-python",
   "name": "python",
   "nbconvert_exporter": "python",
   "pygments_lexer": "ipython3",
   "version": "3.5.4"
  }
 },
 "nbformat": 4,
 "nbformat_minor": 2
}
