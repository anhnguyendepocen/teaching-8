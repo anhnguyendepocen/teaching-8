{
 "cells": [
  {
   "cell_type": "markdown",
   "metadata": {},
   "source": [
    "$\\newcommand{L}[1]{\\| #1 \\|}\\newcommand{VL}[1]{\\L{ \\vec{#1} }}\\newcommand{R}[1]{\\operatorname{Re}\\,(#1)}\\newcommand{I}[1]{\\operatorname{Im}\\, (#1)}$\n",
    "\n",
    "## Introduction to the general linear model\n",
    "\n",
    "These are some notes on simple regression, multiple regression, and the\n",
    "general linear model.\n",
    "\n",
    "For more detail, see [The general linear model and fMRI: Does love last\n",
    "forever?](http://matthew.dynevor.org/_downloads/does_glm_love.pdf).\n",
    "\n",
    "This page starts by setting up a simple regression. Then I will try to\n",
    "show how the simple regression gets expressed in a *design matrix*. Once\n",
    "we have that, it’s easy to extend simple regression to multiple\n",
    "regression. By adding some specially formed regressors, we can also\n",
    "express group membership, and therefore do analysis of variance. This\n",
    "last step is where multiple regression becomes the general linear model.\n",
    "\n",
    "### About this page\n",
    "\n",
    "We go through regression and the general linear model slowly, showing\n",
    "how it works in symbols, and in code, with actual numbers.\n",
    "\n",
    "### The example regression problem\n",
    "\n",
    "Let’s imagine that we have measured scores for a “psychopathy”\n",
    "personality trait in 12 students. We also have some other information\n",
    "about these students. For example, we measured how much sweat each\n",
    "student had on their palms, and we call this a “clammy” score. We first\n",
    "try and work out whether the “clammy” score predicts the “psychopathy”\n",
    "score. We’ll do this with simple linear regression.\n",
    "\n",
    "### Simple linear regression\n",
    "\n",
    "We first need to get our environment set up to run the code and plots we\n",
    "need."
   ]
  },
  {
   "cell_type": "code",
   "execution_count": 1,
   "metadata": {},
   "outputs": [],
   "source": [
    "# Import numerical and plotting libraries\n",
    "import numpy as np\n",
    "import numpy.linalg as npl\n",
    "import matplotlib.pyplot as plt\n",
    "# Only show 6 decimals when printing\n",
    "np.set_printoptions(precision=6)"
   ]
  },
  {
   "cell_type": "code",
   "execution_count": 2,
   "metadata": {},
   "outputs": [],
   "source": [
    "%matplotlib inline"
   ]
  },
  {
   "cell_type": "markdown",
   "metadata": {},
   "source": [
    "Here are our scores of “psychopathy” from the 12 students:"
   ]
  },
  {
   "cell_type": "code",
   "execution_count": 3,
   "metadata": {},
   "outputs": [],
   "source": [
    "psychopathy = [11.416,   4.514,  12.204,  14.835,\n",
    "               8.416,   6.563,  17.343, 13.02,\n",
    "               15.19 ,  11.902,  22.721,  22.324]"
   ]
  },
  {
   "cell_type": "markdown",
   "metadata": {},
   "source": [
    "These are the skin-conductance scores to get a measure of clamminess for\n",
    "the handshakes of each student:"
   ]
  },
  {
   "cell_type": "code",
   "execution_count": 4,
   "metadata": {},
   "outputs": [],
   "source": [
    "clammy = [0.389,  0.2  ,  0.241,  0.463,\n",
    "          4.585,  1.097,  1.642,  4.972,\n",
    "          7.957,  5.585,  5.527,  6.964]"
   ]
  },
  {
   "cell_type": "markdown",
   "metadata": {},
   "source": [
    "We happen to believe that there is some relationship between `clammy`\n",
    "and `psychopathy`. Plotting them together we get:"
   ]
  },
  {
   "cell_type": "code",
   "execution_count": 5,
   "metadata": {},
   "outputs": [
    {
     "data": {
      "text/plain": [
       "<matplotlib.text.Text at 0x108245a90>"
      ]
     },
     "execution_count": 5,
     "metadata": {},
     "output_type": "execute_result"
    },
    {
     "data": {
      "image/png": "[encoded data removed]",
      "text/plain": [
       "<matplotlib.figure.Figure at 0x108218630>"
      ]
     },
     "metadata": {},
     "output_type": "display_data"
    }
   ],
   "source": [
    "plt.plot(clammy, psychopathy, '+')\n",
    "plt.xlabel('Clamminess of handshake')\n",
    "plt.ylabel('Psychopathy score')"
   ]
  },
  {
   "cell_type": "markdown",
   "metadata": {},
   "source": [
    "It looks like there may be some sort of straight line relationship. We\n",
    "could try guessing at a line to fit the data. Let’s try an intercept of\n",
    "$10$ and slope $0.9$:"
   ]
  },
  {
   "cell_type": "code",
   "execution_count": 6,
   "metadata": {},
   "outputs": [
    {
     "data": {
      "text/plain": [
       "[<matplotlib.lines.Line2D at 0x108728c50>]"
      ]
     },
     "execution_count": 6,
     "metadata": {},
     "output_type": "execute_result"
    },
    {
     "data": {
      "image/png": "[encoded data removed]",
      "text/plain": [
       "<matplotlib.figure.Figure at 0x108218470>"
      ]
     },
     "metadata": {},
     "output_type": "display_data"
    }
   ],
   "source": [
    "# Plot the data\n",
    "plt.plot(clammy, psychopathy, '+')"
   ]
  },
  {
   "cell_type": "code",
   "execution_count": 7,
   "metadata": {},
   "outputs": [],
   "source": [
    "def my_line(x):\n",
    "    # My prediction for psychopathy given clamminess\n",
    "    return 10 + 0.9 * x"
   ]
  },
  {
   "cell_type": "code",
   "execution_count": 8,
   "metadata": {},
   "outputs": [
    {
     "data": {
      "text/plain": [
       "<matplotlib.text.Text at 0x1087805c0>"
      ]
     },
     "execution_count": 8,
     "metadata": {},
     "output_type": "execute_result"
    },
    {
     "data": {
      "image/png": "[encoded data removed]",
      "text/plain": [
       "<matplotlib.figure.Figure at 0x108257080>"
      ]
     },
     "metadata": {},
     "output_type": "display_data"
    }
   ],
   "source": [
    "# Plot the prediction\n",
    "x_vals = [0, max(clammy)]\n",
    "y_vals = [my_line(0), my_line(max(clammy))]\n",
    "plt.plot(x_vals, y_vals)\n",
    "plt.xlabel('Clamminess of handshake')\n",
    "plt.ylabel('Psychopathy score')\n",
    "plt.title('Clammy vs psychopathy with guessed line')"
   ]
  },
  {
   "cell_type": "markdown",
   "metadata": {},
   "source": [
    "What does our straight line relationship mean?\n",
    "\n",
    "We are saying that the values of `psychopathy` can be partly predicted by\n",
    "a straight line of formula `10 + clammy \\* 0.9`.\n",
    "\n",
    "$\\newcommand{\\yvec}{\\vec{y}} \\newcommand{\\xvec}{\\vec{x}} \\newcommand{\\evec}{\\vec{\\varepsilon}}$\n",
    "\n",
    "To make this more general, let’s call our `psychopathy` data\n",
    "$\\yvec$ - a vector with 12 values, one for each student.\n",
    "$y_1$ is the value for the first student (= 11.416) and\n",
    "$y_i$ is the value for student $i$ where\n",
    "$i \\in 1 .. 12$.\n",
    "\n",
    "Our `clammy` score is a predictor. Lets call the clammy scores $\\xvec$\n",
    "— another vector with 12 values. $x_1$ is the value for the first\n",
    "student (= 0.389) and $x_i$ is the value for student $i$ where\n",
    "$i \\in 1 .. 12$.\n",
    "\n",
    "Our straight line model says:\n",
    "\n",
    "$y_i \\approx c + bx_i$\n",
    "\n",
    "where $c$ is the intercept and $b$ is the slope. For the guessed\n",
    "line above:\n",
    "\n",
    "$y_i \\approx 10 + 0.9 x_i$\n",
    "\n",
    "With the $\\approx$ above, we are accepting that we will not succeed in\n",
    "explaining all the variation in our psychopathy data. We can rephrase this by\n",
    "saying that each observation is equal to the predicted value (from the formula\n",
    "above) plus some error for each observation:\n",
    "\n",
    "$y_i = c + bx_i + e_i$\n",
    "\n",
    "# Simple regression in matrix form\n",
    "\n",
    "It turns out it will be useful to rephrase the simple regression model\n",
    "in matrix form. Let’s make the data and predictor and errors into\n",
    "vectors.\n",
    "\n",
    "$\\yvec$ is the vector of values $y_1 ... y_{12}$.\n",
    "\n",
    "$$\n",
    "\\left[\\begin{matrix}11.416\\\\4.514\\\\12.204\\\\14.835\\\\8.416\\\\6.563\\\\17.343\\\\13.02\\\\15.19\\\\11.902\\\\22.721\\\\22.324\\end{matrix}\\right]\n",
    "$$\n",
    "\n",
    "$\\xvec$ is the vector of values $x_1 ... x_{12}$:\n",
    "\n",
    "$$\n",
    "\\left[\\begin{matrix}0.389\\\\0.2\\\\0.241\\\\0.463\\\\4.585\\\\1.097\\\\1.642\\\\4.972\\\\7.957\\\\5.585\\\\5.527\\\\6.964\\end{matrix}\\right]\n",
    "$$\n",
    "\n",
    "$\\evec$ is the vector of errors $e_1 ... e_{12}$:\n",
    "\n",
    "$$\n",
    "\\left[\\begin{matrix}e_{1}\\\\e_{2}\\\\e_{3}\\\\e_{4}\\\\e_{5}\\\\e_{6}\\\\e_{7}\\\\e_{8}\\\\e_{9}\\\\e_{10}\\\\e_{11}\\\\e_{12}\\end{matrix}\\right]\n",
    "$$\n",
    "\n",
    "Now we can rephrase our model as:\n",
    "\n",
    "$$\n",
    "\\yvec = c + b \\xvec + \\evec\n",
    "$$\n",
    "\n",
    "Bear with with us for a little trick. If $\\mathbf{o}$ is a vector\n",
    "of ones, then we can rewrite the formula as:\n",
    "\n",
    "$$\n",
    "\\yvec = c\\mathbf{o} + b\\xvec + \\evec\n",
    "$$\n",
    "\n",
    "because $o_i = 1$ and so $co_i = c$.\n",
    "\n",
    "$$\n",
    "\\left[\\begin{matrix}11.416\\\\4.514\\\\12.204\\\\14.835\\\\8.416\\\\6.563\\\\17.343\\\\13.02\\\\15.19\\\\11.902\\\\22.721\\\\22.324\\end{matrix}\\right] = c \\left[\\begin{matrix}1\\\\1\\\\1\\\\1\\\\1\\\\1\\\\1\\\\1\\\\1\\\\1\\\\1\\\\1\\end{matrix}\\right] + b \\left[\\begin{matrix}0.389\\\\0.2\\\\0.241\\\\0.463\\\\4.585\\\\1.097\\\\1.642\\\\4.972\\\\7.957\\\\5.585\\\\5.527\\\\6.964\\end{matrix}\\right] + \\left[\\begin{matrix}e_{1}\\\\e_{2}\\\\e_{3}\\\\e_{4}\\\\e_{5}\\\\e_{6}\\\\e_{7}\\\\e_{8}\\\\e_{9}\\\\e_{10}\\\\e_{11}\\\\e_{12}\\end{matrix}\\right]\n",
    "$$\n",
    "\n",
    "$\\newcommand{Xmat}{\\boldsymbol X} \\newcommand{\\bvec}{\\vec{\\beta}}$\n",
    "\n",
    "We can now rephrase the calculation in terms of matrix multiplication.\n",
    "\n",
    "Call $\\Xmat$ the matrix of two columns, where the first column is\n",
    "the column of ones ($\\mathbf{o}$ above) and the second column is\n",
    "$\\xvec$. Call $\\bvec$ the column vector:\n",
    "\n",
    "$$\n",
    "\\left[\n",
    "\\begin{array}{\\bvec}\n",
    "c \\\\\n",
    "b \\\\\n",
    "\\end{array}\n",
    "\\right]\n",
    "$$\n",
    "\n",
    "This gives us the same formula as [(1)](https://matthew-brett.github.io/teaching/glm_intro.html#equation-matrix-addition) but in terms of matrix\n",
    "multiplication:\n",
    "\n",
    "$$\n",
    "\\left[\\begin{matrix}11.416\\\\4.514\\\\12.204\\\\14.835\\\\8.416\\\\6.563\\\\17.343\\\\13.02\\\\15.19\\\\11.902\\\\22.721\\\\22.324\\end{matrix}\\right] = \\left[\\begin{matrix}1 & 0.389\\\\1 & 0.2\\\\1 & 0.241\\\\1 & 0.463\\\\1 & 4.585\\\\1 & 1.097\\\\1 & 1.642\\\\1 & 4.972\\\\1 & 7.957\\\\1 & 5.585\\\\1 & 5.527\\\\1 & 6.964\\end{matrix}\\right] \\left[\\begin{matrix}c\\\\b\\end{matrix}\\right] + \\left[\\begin{matrix}e_{1}\\\\e_{2}\\\\e_{3}\\\\e_{4}\\\\e_{5}\\\\e_{6}\\\\e_{7}\\\\e_{8}\\\\e_{9}\\\\e_{10}\\\\e_{11}\\\\e_{12}\\end{matrix}\\right]\n",
    "$$\n",
    "\n",
    "In symbols:\n",
    "\n",
    "$$\n",
    "\\yvec = \\Xmat \\bvec + \\evec\n",
    "$$\n",
    "\n",
    "We still haven’t found our best fitting line. But before we go further,\n",
    "it might be obvious that we can easily add a new predictor here.\n",
    "\n",
    "## Multiple regression\n",
    "\n",
    "Let’s say we think that psychopathy increases with age. We add the\n",
    "student’s age as another predictor:"
   ]
  },
  {
   "cell_type": "code",
   "execution_count": 9,
   "metadata": {},
   "outputs": [],
   "source": [
    "age = [22.5,  25.3,  24.6,  21.4,\n",
    "       20.7,  23.3,  23.8,  21.7,\n",
    "       21.3, 25.2,  24.6,  21.8]"
   ]
  },
  {
   "cell_type": "markdown",
   "metadata": {},
   "source": [
    "$$\n",
    "\\left[\\begin{matrix}22.5\\\\25.3\\\\24.6\\\\21.4\\\\20.7\\\\23.3\\\\23.8\\\\21.7\\\\21.3\\\\25.2\\\\24.6\\\\21.8\\end{matrix}\\right]\n",
    "$$\n",
    "\n",
    "Now rename the `clammy` predictor vector from $\\xvec$ to\n",
    "$\\xvec_1$. Of course $\\xvec_1$ has 12 values $x_{1, 1}..x_{1,\n",
    "12}$. Call the `age` predictor vector $\\xvec_2$. Call the slope for\n",
    "`clammy` $b_1$ (slope for $\\xvec_1$). Call the slope for age\n",
    "$b_2$ (slope for $\\xvec_2$). Our model is:\n",
    "\n",
    "$$\n",
    "y_i = c + b_1 x_{1, i} + b_2 x_{2, i} + e_i\n",
    "\n",
    "\n",
    "$$\n",
    "\n",
    "In this model $\\Xmat$ has three columns (ones, $\\xvec_1$, and\n",
    "$\\xvec_2$), and the $\\bvec$ vector has three values $c, b_1,\n",
    "b_2$. This gives the same matrix formulation, with our new $\\Xmat$ and\n",
    "$\\bvec$: $\\yvec = \\Xmat \\bvec + \\evec$.\n",
    "\n",
    "This is a *linear* model because our model says that the data $y_i$ comes\n",
    "from the *sum* of some components ($c, b_1 x_{1, i}, b_2 x_{2, i}, e_i$).\n",
    "\n",
    "We can keep doing this by adding more and more regressors. In general, a linear model with $p$ predictors looks like this:\n",
    "\n",
    "$$\n",
    "y_i = b_1 x_{1, i} + b_2 x_{2, i} + ... b_p x_{p, i} + e_i\n",
    "\n",
    "\n",
    "$$\n",
    "\n",
    "In the case of the models above, the first predictor $\\xvec_1$\n",
    "would be a column of ones, to express the intercept in the model.\n",
    "\n",
    "Any model of the form above can still be phrased in the matrix form:\n",
    "\n",
    "$$\n",
    "\\yvec = \\Xmat \\bvec + \\evec\n",
    "\n",
    "\n",
    "$$\n",
    "\n",
    " Population, sample, estimate\n",
    "\n",
    "$\\newcommand{\\bhat}{\\hat{\\bvec}} \\newcommand{\\yhat}{\\hat{\\yvec}}$\n",
    "Our students and their psychopathy scores are a *sample* from the\n",
    "population of all students’ psychopathy scores. The parameters\n",
    "$\\bvec$ are the parameters that fit the design $\\Xmat$ to\n",
    "the *population* scores. We only have a sample from this population, so\n",
    "we cannot get the true population $\\bvec$ vector, we can only\n",
    "*estimate* $\\bvec$ from our sample. We will write this sample\n",
    "estimate as $\\bhat$ to distinguish it from the true population\n",
    "parameters $\\bvec$.\n",
    "\n",
    " Solving the model with matrix algebra\n",
    "\n",
    "The reason to formulate our problem with matrices is so we can use some\n",
    "basic matrix algebra to estimate the “best” line.\n",
    "\n",
    "Let’s assume that we want an estimate for the line parameters (intercept\n",
    "and slope) that gives the smallest “distance” between the estimated\n",
    "values (predicted from the line), and the actual values (the data).\n",
    "\n",
    "We’ll define ‘distance’ as the squared difference of the predicted value\n",
    "from the actual value. These are the squared error terms\n",
    "$e_1^2, e_2^2 ... e_{n}^2$, where $n$ is the number of\n",
    "observations - 12 in our case.\n",
    "\n",
    "Revising: our model is:\n",
    "\n",
    "$$\n",
    "\\yvec = \\Xmat \\bvec + \\evec\n",
    "$$\n",
    "\n",
    "Where $\\yvec$ is the data vector $y_1, y_2, ... y_n$,\n",
    "$\\Xmat$ is the design matrix of shape $n, p$, $\\bvec$\n",
    "is the parameter vector, $b_1, b_2 ... b_p$, and $\\evec$ is\n",
    "the error vector giving errors for each observation\n",
    "$\\epsilon_1, \\epsilon_2 ... \\epsilon_n$.\n",
    "\n",
    "Each column of $\\Xmat$ is a regressor vector, so $\\Xmat$ can\n",
    "be thought of as the column concatenation of $p$ vectors\n",
    "$\\xvec_1, \\xvec_2 ... \\xvec_p$, where $\\xvec_1$ is the first\n",
    "regressor *vector*, and so on.\n",
    "\n",
    "In our case, we want an estimate $\\bhat$ for the vector\n",
    "$\\bvec$ such that the errors $\\evec = \\yvec - \\Xmat \\bhat$\n",
    "have the smallest sum of squares $\\sum_{i=1}^n{e_i^2}$.\n",
    "$\\sum_{i=1}^n{e_i^2}$ is called the *residual sum of squares*.\n",
    "\n",
    "When we have our $\\bhat$ estimate, then the prediction of the data\n",
    "from the estimate is given by $\\Xmat \\bhat$.\n",
    "\n",
    "We call this the predicted or estimated data, and write it as\n",
    "$\\yhat$. The errors are then given by $\\yvec - \\yhat$.\n",
    "\n",
    "We might expect that, when we have found the right $\\bhat$ then\n",
    "the errors will have nothing in them that can still be explained by the\n",
    "design matrix $\\Xmat$. This is the same as saying that, when we\n",
    "have best prediction of the data ($\\yhat = \\Xmat \\bhat$), the\n",
    "design matrix $\\Xmat$ should be orthogonal to the remaining error\n",
    "($\\yvec - \\yhat$). If the design is orthogonal to the errors, then\n",
    "$\\Xmat^T \\evec$ should be a vector of zeros.\n",
    "\n",
    "If that is the case then we can multiply\n",
    "$\\yvec = \\Xmat \\bhat + \\evec$ through by $\\Xmat^T$:\n",
    "\n",
    "$$\n",
    "\\Xmat^T \\yvec = \\Xmat^T \\Xmat \\bhat + \\Xmat^T \\evec\n",
    "$$\n",
    "\n",
    "The last term now disappears because it is zero and:\n",
    "\n",
    "$$\n",
    "\\Xmat^T \\yvec = \\Xmat^T \\Xmat \\bhat\n",
    "$$\n",
    "\n",
    "If $\\Xmat^T \\Xmat$ is invertible (has a matrix inverse\n",
    "$(\\Xmat^T \\Xmat)^{-1}$) then there is a unique solution:\n",
    "\n",
    "$$\n",
    "\\bhat = (\\Xmat^T \\Xmat)^{-1} \\Xmat^T \\yvec\n",
    "$$\n",
    "\n",
    "It turns out that, if $\\Xmat^T \\Xmat$ is not invertible, there are\n",
    "an infinite number of solutions, and we have to choose one solution,\n",
    "taking into account that the parameters $\\bhat$ will depend on\n",
    "which solution we chose. The *pseudoinverse* operator gives us one\n",
    "particular solution. If $\\bf{A}^+$ is the pseudoinverse of matrix\n",
    "$\\bf{A}$ then the general solution for $\\bhat$, even when\n",
    "$\\Xmat^T \\Xmat$ is not invertible, is:\n",
    "\n",
    "$$\n",
    "\\bhat = \\Xmat^+ \\yvec\n",
    "$$\n",
    "\n",
    "Using this matrix algebra, what line do we estimate for `psychopathy`\n",
    "and `clammy`?"
   ]
  },
  {
   "cell_type": "code",
   "execution_count": 10,
   "metadata": {},
   "outputs": [
    {
     "data": {
      "text/plain": [
       "array([[ 1.   ,  0.389],\n",
       "       [ 1.   ,  0.2  ],\n",
       "       [ 1.   ,  0.241],\n",
       "       [ 1.   ,  0.463],\n",
       "       [ 1.   ,  4.585],\n",
       "       [ 1.   ,  1.097],\n",
       "       [ 1.   ,  1.642],\n",
       "       [ 1.   ,  4.972],\n",
       "       [ 1.   ,  7.957],\n",
       "       [ 1.   ,  5.585],\n",
       "       [ 1.   ,  5.527],\n",
       "       [ 1.   ,  6.964]])"
      ]
     },
     "execution_count": 10,
     "metadata": {},
     "output_type": "execute_result"
    }
   ],
   "source": [
    "X = np.column_stack((np.ones(12), clammy))\n",
    "X"
   ]
  },
  {
   "cell_type": "code",
   "execution_count": 11,
   "metadata": {},
   "outputs": [
    {
     "data": {
      "text/plain": [
       "array([ 10.071286,   0.999257])"
      ]
     },
     "execution_count": 11,
     "metadata": {},
     "output_type": "execute_result"
    }
   ],
   "source": [
    "# Use the pseudoinverse to get estimated B\n",
    "B = npl.pinv(X).dot(psychopathy)\n",
    "B"
   ]
  },
  {
   "cell_type": "code",
   "execution_count": 12,
   "metadata": {},
   "outputs": [
    {
     "data": {
      "text/plain": [
       "[<matplotlib.lines.Line2D at 0x1088df518>]"
      ]
     },
     "execution_count": 12,
     "metadata": {},
     "output_type": "execute_result"
    },
    {
     "data": {
      "image/png": "[encoded data removed]",
      "text/plain": [
       "<matplotlib.figure.Figure at 0x108733e48>"
      ]
     },
     "metadata": {},
     "output_type": "display_data"
    }
   ],
   "source": [
    "# Plot the data\n",
    "plt.plot(clammy, psychopathy, '+')"
   ]
  },
  {
   "cell_type": "code",
   "execution_count": 13,
   "metadata": {},
   "outputs": [],
   "source": [
    "def my_best_line(x):\n",
    "    # Best prediction for psychopathy given clamminess\n",
    "    return B[0] + B[1] * x"
   ]
  },
  {
   "cell_type": "code",
   "execution_count": 14,
   "metadata": {},
   "outputs": [
    {
     "data": {
      "text/plain": [
       "<matplotlib.text.Text at 0x10890fbe0>"
      ]
     },
     "execution_count": 14,
     "metadata": {},
     "output_type": "execute_result"
    },
    {
     "data": {
      "image/png": "[encoded data removed]",
      "text/plain": [
       "<matplotlib.figure.Figure at 0x10873d390>"
      ]
     },
     "metadata": {},
     "output_type": "display_data"
    }
   ],
   "source": [
    "# Plot the new prediction\n",
    "x_vals = [0, max(clammy)]\n",
    "y_vals = [my_best_line(0), my_best_line(max(clammy))]\n",
    "plt.plot(x_vals, y_vals)\n",
    "plt.xlabel('Clamminess of handshake')\n",
    "plt.ylabel('Psychopathy score')"
   ]
  },
  {
   "cell_type": "markdown",
   "metadata": {},
   "source": [
    "Our claim was that this estimate for slope and intercept minimize the sum of\n",
    "squared error:"
   ]
  },
  {
   "cell_type": "code",
   "execution_count": 15,
   "metadata": {},
   "outputs": [
    {
     "name": "stdout",
     "output_type": "stream",
     "text": [
      "252.92560645\n"
     ]
    }
   ],
   "source": [
    "fitted = X.dot(B)\n",
    "errors = psychopathy - fitted\n",
    "print(np.sum(errors ** 2))"
   ]
  },
  {
   "cell_type": "markdown",
   "metadata": {},
   "source": [
    "Is this sum of squared errors smaller than our earlier guess of an\n",
    "intercept of 10 and a slope of 0.9?"
   ]
  },
  {
   "cell_type": "code",
   "execution_count": 16,
   "metadata": {},
   "outputs": [
    {
     "name": "stdout",
     "output_type": "stream",
     "text": [
      "255.75076072\n"
     ]
    }
   ],
   "source": [
    "fitted = X.dot([10, 0.9])\n",
    "errors = psychopathy - fitted\n",
    "print(np.sum(errors ** 2))"
   ]
  },
  {
   "cell_type": "markdown",
   "metadata": {},
   "source": [
    "# Contrasts\n",
    "\n",
    "$\\newcommand{cvec}{\\mathbf{c}}$ We can combine the values in the\n",
    "$\\bhat$ vector in different ways by using a *contrast* vector. A\n",
    "contrast vector $\\cvec$ is a vector of weights\n",
    "$c_1, c_2 ... c_p$ for each value in the $\\bhat$ vector.\n",
    "Assume that all vectors we’ve defined up until now are column vectors.\n",
    "Then a scalar value that is a linear combination of the $\\bhat$\n",
    "values can be written:\n",
    "\n",
    "$$\n",
    "\\cvec^T \\bhat\n",
    "$$\n",
    "\n",
    "We now return to our original question, whether clamminess of handshake\n",
    "predicts psychopathy score.\n",
    "\n",
    "If clamminess does predict psychopathy, then we would expect the slope\n",
    "of the best fit line between `clammy` and `psychopathy` would be\n",
    "different from zero.\n",
    "\n",
    "In our model, we have two predictors, the column of ones and `clammy`.\n",
    "$p = 2$ and $\\bhat$ is length 2. We could choose just the second of\n",
    "the values in $\\bhat$ (therefore $b_1$ if $b_0$ is the first\n",
    "value) with a contrast:\n",
    "\n",
    "$$\n",
    "\\left[\n",
    "\\begin{array}{\\cvec}\n",
    "0 \\\\\n",
    "1 \\\\\n",
    "\\end{array}\n",
    "\\right]\n",
    "$$\n",
    "\n",
    "$\\cvec^T \\bhat$ with this contrast gives our *estimate* of the\n",
    "slope relating `clammy` to `psychopathy`. Now we might be interested\n",
    "if our estimate is further from zero than expected by chance.\n",
    "\n",
    "To test whether the estimate is different from zero, we can divide the estimate\n",
    "by the variability of the estimate. This gives us an idea of how far the\n",
    "estimate is from zero, in terms of the variability of the estimate. We won’t go\n",
    "into the estimate of the variability here though, we’ll just assume it (the\n",
    "formula is in the code below). The estimate divided by the variability of the\n",
    "estimate gives us a t statistic.\n",
    "\n",
    "With that introduction, here’s how to do the estimation and a t statistic given\n",
    "the data $\\yvec$, the design $\\Xmat$, and a contrast vector\n",
    "$\\cvec$."
   ]
  },
  {
   "cell_type": "code",
   "execution_count": 17,
   "metadata": {},
   "outputs": [],
   "source": [
    "# Get t distribution code from scipy library\n",
    "from scipy.stats import t as t_dist"
   ]
  },
  {
   "cell_type": "code",
   "execution_count": 18,
   "metadata": {},
   "outputs": [],
   "source": [
    "def t_stat(y, X, c):\n",
    "    \"\"\" betas, t statistic and significance test given data, design matrix, contrast\n",
    "\n",
    "    This is OLS estimation; we assume the errors to have independent\n",
    "    and identical normal distributions around zero for each $i$ in\n",
    "    $\\e_i$ (i.i.d).\n",
    "    \"\"\"\n",
    "    # Make sure y, X, c are all arrays\n",
    "    y = np.asarray(y)\n",
    "    X = np.asarray(X)\n",
    "    c = np.atleast_2d(c).T  # As column vector\n",
    "    # Calculate the parameters - b hat\n",
    "    beta = npl.pinv(X).dot(y)\n",
    "    # The fitted values - y hat\n",
    "    fitted = X.dot(beta)\n",
    "    # Residual error\n",
    "    errors = y - fitted\n",
    "    # Residual sum of squares\n",
    "    RSS = (errors**2).sum(axis=0)\n",
    "    # Degrees of freedom is the number of observations n minus the number\n",
    "    # of independent regressors we have used.  If all the regressor\n",
    "    # columns in X are independent then the (matrix rank of X) == p\n",
    "    # (where p the number of columns in X). If there is one column that\n",
    "    # can be expressed as a linear sum of the other columns then\n",
    "    # (matrix rank of X) will be p - 1 - and so on.\n",
    "    df = X.shape[0] - npl.matrix_rank(X)\n",
    "    # Mean residual sum of squares\n",
    "    MRSS = RSS / df\n",
    "    # calculate bottom half of t statistic\n",
    "    SE = np.sqrt(MRSS * c.T.dot(npl.pinv(X.T.dot(X)).dot(c)))\n",
    "    t = c.T.dot(beta) / SE\n",
    "    # Get p value for t value using cumulative density dunction\n",
    "    # (CDF) of t distribution\n",
    "    ltp = t_dist.cdf(t, df) # lower tail p\n",
    "    p = 1 - ltp # upper tail p\n",
    "    return beta, t, df, p"
   ]
  },
  {
   "cell_type": "markdown",
   "metadata": {},
   "source": [
    "See [p values from cumulative distribution functions](https://matthew-brett.github.io/teaching/on_cdfs.html) for background on the probability values.\n",
    "\n",
    "So, does `clammy` predict `psychopathy`? If it does not, then our\n",
    "estimate of the slope will not be convincingly different from 0. The t\n",
    "test divides our estimate of the slope by the error in the estimate;\n",
    "large values mean that the slope is large compared to the error in the\n",
    "estimate."
   ]
  },
  {
   "cell_type": "code",
   "execution_count": 19,
   "metadata": {},
   "outputs": [
    {
     "data": {
      "text/plain": [
       "(array([[ 1.914389]]), array([[ 0.042295]]))"
      ]
     },
     "execution_count": 19,
     "metadata": {},
     "output_type": "execute_result"
    }
   ],
   "source": [
    "X = np.column_stack((np.ones(12), clammy))\n",
    "Y = np.asarray(psychopathy)\n",
    "B, t, df, p = t_stat(Y, X, [0, 1])\n",
    "t, p"
   ]
  },
  {
   "cell_type": "markdown",
   "metadata": {},
   "source": [
    "<!-- dummy-coding: -->\n",
    "# Dummy coding and the general linear model\n",
    "\n",
    "So far we have been doing *multiple regression*. That is, all the\n",
    "columns (except the column of ones) are continuous vectors of numbers\n",
    "predicting our outcome data `psychopathy`. These type of predictors\n",
    "are often called *covariates*.\n",
    "\n",
    "It turns out we can use this same framework to express the fact that\n",
    "different observations come from different groups.\n",
    "\n",
    "Expressing group membership in this way allows us to express *analysis\n",
    "of variance* designs using this same notation.\n",
    "\n",
    "To do this, we use columns of *dummy variables*.\n",
    "\n",
    "Let’s say we get some new and interesting information. The first 4\n",
    "students come from Berkeley, the second set of 4 come from Stanford, and\n",
    "the last set of 4 come from MIT. Maybe the student’s college predicts if\n",
    "they are a psychopath?\n",
    "\n",
    "How do we express this information? Let’s forget about the clamminess\n",
    "score for now and just use the school information. Our model might be\n",
    "that we can best predict the psychopathy scores by approximating the\n",
    "individual student psychopathy scores with a mean score for the relevant\n",
    "school:\n",
    "\n",
    "$$\n",
    "y_i = \\mu_{Berkeley} + e_i  \\space\\mbox{if}\\space 1 \\le i \\le 4\n",
    "\n",
    "y_i = \\mu_{Stanford} + e_i \\space\\mbox{if}\\space 5 \\le i \\le 8\n",
    "\n",
    "y_i = \\mu_{MIT} + e_i \\space\\mbox{if}\\space 9 \\le i \\le 12\n",
    "$$\n",
    "\n",
    "We can code this with predictors in our design using *indicator\n",
    "variables*. The “Berkeley” indicator variable vector is 1 when the\n",
    "student is from Berkeley and zero otherwise. Similarly for the other two\n",
    "schools:"
   ]
  },
  {
   "cell_type": "code",
   "execution_count": 20,
   "metadata": {},
   "outputs": [
    {
     "data": {
      "text/plain": [
       "array([[1, 0, 0],\n",
       "       [1, 0, 0],\n",
       "       [1, 0, 0],\n",
       "       [1, 0, 0],\n",
       "       [0, 1, 0],\n",
       "       [0, 1, 0],\n",
       "       [0, 1, 0],\n",
       "       [0, 1, 0],\n",
       "       [0, 0, 1],\n",
       "       [0, 0, 1],\n",
       "       [0, 0, 1],\n",
       "       [0, 0, 1]])"
      ]
     },
     "execution_count": 20,
     "metadata": {},
     "output_type": "execute_result"
    }
   ],
   "source": [
    "berkeley_indicator = [1, 1, 1, 1, 0, 0, 0, 0, 0, 0, 0, 0]\n",
    "stanford_indicator = [0, 0, 0, 0, 1, 1, 1, 1, 0, 0, 0, 0]\n",
    "mit_indicator      = [0, 0, 0, 0, 0, 0, 0, 0, 1, 1, 1, 1]\n",
    "X = np.column_stack((berkeley_indicator,\n",
    "                    stanford_indicator,\n",
    "                    mit_indicator))\n",
    "X"
   ]
  },
  {
   "cell_type": "markdown",
   "metadata": {},
   "source": [
    "These indicator columns are *dummy variables* where the values code for\n",
    "the group membership.\n",
    "\n",
    "Now the $\\bvec$ vector will be:\n",
    "\n",
    "$$\n",
    "\\left[\n",
    "\\begin{array}{\\bvec}\n",
    "\\mu_{Berkeley} \\\\\n",
    "\\mu_{Stanford} \\\\\n",
    "\\mu_{MIT} \\\\\n",
    "\\end{array}\n",
    "\\right]\n",
    "$$\n",
    "\n",
    "When we estimate these using the least squares method, what estimates\n",
    "will we get for $\\bhat$?"
   ]
  },
  {
   "cell_type": "code",
   "execution_count": 21,
   "metadata": {},
   "outputs": [
    {
     "data": {
      "text/plain": [
       "array([ 10.74225,  11.3355 ,  18.03425])"
      ]
     },
     "execution_count": 21,
     "metadata": {},
     "output_type": "execute_result"
    }
   ],
   "source": [
    "B = npl.pinv(X).dot(psychopathy)\n",
    "B"
   ]
  },
  {
   "cell_type": "code",
   "execution_count": 22,
   "metadata": {},
   "outputs": [
    {
     "data": {
      "text/plain": [
       "18.03425"
      ]
     },
     "execution_count": 22,
     "metadata": {},
     "output_type": "execute_result"
    }
   ],
   "source": [
    "np.mean(psychopathy[:4])\n",
    "np.mean(psychopathy[4:8])\n",
    "np.mean(psychopathy[8:])"
   ]
  },
  {
   "cell_type": "markdown",
   "metadata": {},
   "source": [
    "It looks like the MIT students are a bit more psychopathic. Are they more\n",
    "psychopathic than Berkeley and Stanford?\n",
    "\n",
    "We can use a contrast to test whether the mean for the MIT students is greater\n",
    "than the mean of (mean for Berkeley, mean for Stanford):"
   ]
  },
  {
   "cell_type": "code",
   "execution_count": 23,
   "metadata": {},
   "outputs": [
    {
     "data": {
      "text/plain": [
       "(array([[ 2.340356]]), array([[ 0.021997]]))"
      ]
     },
     "execution_count": 23,
     "metadata": {},
     "output_type": "execute_result"
    }
   ],
   "source": [
    "B, t, df, p = t_stat(psychopathy, X, [-0.5, -0.5, 1])\n",
    "t, p"
   ]
  },
  {
   "cell_type": "markdown",
   "metadata": {},
   "source": [
    "Ah — yes — just as we suspected.\n",
    "\n",
    "The model above expresses the effect of group membership. It is the\n",
    "expression of a one-way analysis of variance (ANOVA) model using\n",
    "$\\yvec = \\Xmat \\bvec + \\evec$.\n",
    "\n",
    "# ANCOVA in the General Linear Model\n",
    "\n",
    "Our formulation $\\yvec = \\Xmat \\bvec + \\evec$ makes it very easy\n",
    "to add extra regressors to models with group membership. For example, we\n",
    "can easily make a simple ANCOVA model (analysis of covariance).\n",
    "\n",
    "ANCOVA is a specific term for the case where we have a model with both\n",
    "group membership (ANOVA model) and one or more continuous covariates.\n",
    "\n",
    "For example, we can add back our clamminess score to the mix. Does it\n",
    "explain anything once we know which school the student is at?"
   ]
  },
  {
   "cell_type": "code",
   "execution_count": 24,
   "metadata": {},
   "outputs": [
    {
     "data": {
      "text/plain": [
       "array([[ 1.   ,  0.   ,  0.   ,  0.389],\n",
       "       [ 1.   ,  0.   ,  0.   ,  0.2  ],\n",
       "       [ 1.   ,  0.   ,  0.   ,  0.241],\n",
       "       [ 1.   ,  0.   ,  0.   ,  0.463],\n",
       "       [ 0.   ,  1.   ,  0.   ,  4.585],\n",
       "       [ 0.   ,  1.   ,  0.   ,  1.097],\n",
       "       [ 0.   ,  1.   ,  0.   ,  1.642],\n",
       "       [ 0.   ,  1.   ,  0.   ,  4.972],\n",
       "       [ 0.   ,  0.   ,  1.   ,  7.957],\n",
       "       [ 0.   ,  0.   ,  1.   ,  5.585],\n",
       "       [ 0.   ,  0.   ,  1.   ,  5.527],\n",
       "       [ 0.   ,  0.   ,  1.   ,  6.964]])"
      ]
     },
     "execution_count": 24,
     "metadata": {},
     "output_type": "execute_result"
    }
   ],
   "source": [
    "X = np.column_stack((berkeley_indicator,\n",
    "                     stanford_indicator,\n",
    "                     mit_indicator,\n",
    "                     clammy))\n",
    "X"
   ]
  },
  {
   "cell_type": "markdown",
   "metadata": {},
   "source": [
    "We test the independent effect of the clamminess score with a contrast\n",
    "on the clammy slope parameter:"
   ]
  },
  {
   "cell_type": "code",
   "execution_count": 25,
   "metadata": {},
   "outputs": [
    {
     "data": {
      "text/plain": [
       "(array([[-0.010661]]), array([[ 0.504122]]))"
      ]
     },
     "execution_count": 25,
     "metadata": {},
     "output_type": "execute_result"
    }
   ],
   "source": [
    "B, t, df, p = t_stat(psychopathy, X, [0, 0, 0, 1])\n",
    "t, p"
   ]
  },
  {
   "cell_type": "markdown",
   "metadata": {},
   "source": [
    "It looks like there’s not much independent effect of clamminess. The MIT\n",
    "students seem to have clammy hands, and once we know that the student is\n",
    "from MIT, the clammy score is not as useful.\n",
    "\n",
    "# Displaying the design matrix as an image\n",
    "\n",
    "We can show the design as an image, by scaling the values with columns.\n",
    "\n",
    "We scale within columns because we care more about seeing variation\n",
    "within the regressor than between regressors. For example, if we have a\n",
    "regressor varying between 0 and 1, and another between 0 and 1000,\n",
    "without scaling, the column with the larger numbers will swamp the\n",
    "variation in the column with the smaller numbers."
   ]
  },
  {
   "cell_type": "code",
   "execution_count": 26,
   "metadata": {},
   "outputs": [],
   "source": [
    "def scale_design_mtx(X):\n",
    "    \"\"\"utility to scale the design matrix for display\n",
    "\n",
    "    This scales the columns to their own range so we can see the variations\n",
    "    across the column for all the columns, regardless of the scaling of the\n",
    "    column.\n",
    "    \"\"\"\n",
    "    mi, ma = X.min(axis=0), X.max(axis=0)\n",
    "    # Vector that is True for columns where values are not\n",
    "    # all almost equal to each other\n",
    "    col_neq = (ma - mi) > 1.e-8\n",
    "    Xs = np.ones_like(X)\n",
    "    # Leave columns with same value throughout with 1s\n",
    "    # Scale other columns to min, max in column\n",
    "    mi = mi[col_neq]\n",
    "    ma = ma[col_neq]\n",
    "    Xs[:,col_neq] = (X[:,col_neq] - mi)/(ma - mi)\n",
    "    return Xs"
   ]
  },
  {
   "cell_type": "markdown",
   "metadata": {},
   "source": [
    "Then we can display this scaled design with a title and some default\n",
    "image display parameters:"
   ]
  },
  {
   "cell_type": "code",
   "execution_count": 27,
   "metadata": {},
   "outputs": [],
   "source": [
    "def show_design(X, design_title):\n",
    "    \"\"\" Show the design matrix nicely \"\"\"\n",
    "    plt.imshow(scale_design_mtx(X),\n",
    "               interpolation='nearest',\n",
    "               cmap='gray') # Gray colormap\n",
    "    plt.title(design_title)"
   ]
  },
  {
   "cell_type": "markdown",
   "metadata": {},
   "source": [
    "We can then see our ANCOVA design above at a glance:"
   ]
  },
  {
   "cell_type": "code",
   "execution_count": 28,
   "metadata": {},
   "outputs": [
    {
     "data": {
      "image/png": "[encoded data removed]",
      "text/plain": [
       "<matplotlib.figure.Figure at 0x10a26bcf8>"
      ]
     },
     "metadata": {},
     "output_type": "display_data"
    }
   ],
   "source": [
    "show_design(X, 'ANCOVA')"
   ]
  },
  {
   "cell_type": "markdown",
   "metadata": {},
   "source": [
    "<!-- A file containing links and substitutions -->\n",
    "<!-- vim: ft=rst -->\n",
    "<!-- Version control -->\n",
    "<!-- Editors -->\n",
    "<!-- Python and common libraries -->\n",
    "<!-- Virtualenv and helpers -->\n",
    "<!-- Pypi and packaging -->\n",
    "<!-- Mac development -->\n",
    "<!-- Windows development -->\n",
    "<!-- Nipy and friends -->\n",
    "<!-- Mathematics -->\n",
    "<!-- Licenses -->\n",
    "<!-- Neuroimaging stuff -->\n",
    "<!-- People -->\n",
    "<!-- Substitutions -->"
   ]
  }
 ],
 "metadata": {},
 "nbformat": 4,
 "nbformat_minor": 2
}